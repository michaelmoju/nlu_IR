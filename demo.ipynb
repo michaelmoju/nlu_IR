{
 "cells": [
  {
   "cell_type": "code",
   "execution_count": 1,
   "metadata": {},
   "outputs": [],
   "source": [
    "%load_ext autoreload\n",
    "%autoreload 2"
   ]
  },
  {
   "cell_type": "markdown",
   "metadata": {},
   "source": [
    "# Import"
   ]
  },
  {
   "cell_type": "code",
   "execution_count": 2,
   "metadata": {},
   "outputs": [
    {
     "data": {
      "text/plain": [
       "'/work/nlu_IR'"
      ]
     },
     "execution_count": 2,
     "metadata": {},
     "output_type": "execute_result"
    }
   ],
   "source": [
    "import os\n",
    "import sys\n",
    "import json\n",
    "import matplotlib.pyplot as plt\n",
    "from tqdm import tqdm_notebook as tqdm\n",
    "\n",
    "w_dir = %pwd\n",
    "work_dir = os.path.dirname(w_dir)\n",
    "w_dir"
   ]
  },
  {
   "cell_type": "code",
   "execution_count": 3,
   "metadata": {},
   "outputs": [],
   "source": [
    "sys.path.append(w_dir+'/nlu_IR')"
   ]
  },
  {
   "cell_type": "code",
   "execution_count": 4,
   "metadata": {},
   "outputs": [],
   "source": [
    "from nlu_IR import config\n",
    "from nlu_IR import std"
   ]
  },
  {
   "cell_type": "code",
   "execution_count": 5,
   "metadata": {},
   "outputs": [],
   "source": [
    "data = std.json_load(config.COS_DEV)"
   ]
  },
  {
   "cell_type": "code",
   "execution_count": 6,
   "metadata": {},
   "outputs": [
    {
     "data": {
      "text/plain": [
       "'特穆拉·莫里森演什么电影？'"
      ]
     },
     "execution_count": 6,
     "metadata": {},
     "output_type": "execute_result"
    }
   ],
   "source": [
    "data[0]['QUESTIONS'][0]['QTEXT_CN']"
   ]
  },
  {
   "cell_type": "code",
   "execution_count": 7,
   "metadata": {},
   "outputs": [],
   "source": [
    "from nlu_IR.lucene_search.cosQA_search import CosQASearcher\n",
    "from nlu_IR.evaluation.eval import eval_sp"
   ]
  },
  {
   "cell_type": "code",
   "execution_count": 8,
   "metadata": {},
   "outputs": [],
   "source": [
    "mySearcher = CosQASearcher('zh')"
   ]
  },
  {
   "cell_type": "code",
   "execution_count": 9,
   "metadata": {},
   "outputs": [
    {
     "data": {
      "text/plain": [
       "[('Q2155524',\n",
       "  'River Queen',\n",
       "  '河皇后是2005年由文森特·沃德执导，萨曼莎·莫顿、基弗·萨瑟兰、克里夫·柯蒂斯、特穆拉·莫里森和斯蒂芬·雷亚主演的新西兰-英国战争戏剧电影。这部电影的评价参差不齐，但在新西兰的票房表现良好。',\n",
       "  7.7007856369018555),\n",
       " ('Q1184001',\n",
       "  'What a Girl Wants',\n",
       "  '女孩想要什么可以指：“女孩想要什么”（克里斯蒂娜·阿奎莱拉之歌），1999女孩想要什么（电影），由阿曼达·拜恩斯主演的2003年电影“女孩想要什么”（B2K之歌），2003年“女孩想要什么”，一首4分钟前为穆齐克创作的歌',\n",
       "  7.653810977935791),\n",
       " ('Q529851',\n",
       "  'Temuera Morrison',\n",
       "  '特穆拉·德里克·莫里森（1960年12月26日出生）是新西兰演员，他在新西兰肥皂剧《肖特兰街》（Shortland Street）中扮演的Hone Ropata博士首次获得认可。他在1994年的电影《曾经是勇士》和1999年的续集《伤心的人是什么》中饰演杰克·海克，获得了评论界的好评？。他在《星球大战：第二集克隆人的进攻》（2002年）和《星球大战：第二集克隆人的进攻》和《星球大战：第三集西斯的复仇》（2005年）中扮演了詹戈·费特（Jango Fett），从而在国际上享有盛名。他还因在《莫阿纳》（2016）中饰演片名人物之父的崔局长以及在《阿奎曼》（2018）中饰演亚瑟·柯里的父亲托马斯而闻名。',\n",
       "  7.634599208831787),\n",
       " ('Q3536311',\n",
       "  'Tracker (2011 film)',\n",
       "  '跟踪器是一部2011年英国-新西兰动作惊悚片，由伊恩·夏普执导，雷·温斯顿和特穆拉·莫里森主演。它设定在1903年的新西兰。',\n",
       "  7.125396251678467),\n",
       " ('Q1759154',\n",
       "  'The Beautiful Country',\n",
       "  '美丽的国家是一部以1990年为背景的2004年戏剧电影。这部电影由汉斯·佩特·莫兰执导，达米安·阮、尼克·诺尔特、白玲、周铁金玄、蒂姆·罗斯、安·图、特穆拉·莫里森和约翰·侯赛因主演。剧本由萨比娜·默里（Sabina Murray）根据默里和特伦斯·马利克（Terrence Malick）（化名林加德·杰维）的故事撰写',\n",
       "  6.913693428039551)]"
      ]
     },
     "execution_count": 9,
     "metadata": {},
     "output_type": "execute_result"
    }
   ],
   "source": [
    "mySearcher.search('特穆拉·莫里森演什么电影？', 5)"
   ]
  },
  {
   "cell_type": "markdown",
   "metadata": {},
   "source": [
    "# inspect_cosqa"
   ]
  },
  {
   "cell_type": "code",
   "execution_count": 72,
   "metadata": {},
   "outputs": [],
   "source": [
    "def inspect_cosqa(data):\n",
    "    num_gold_sp = 0\n",
    "    valid_questions = []\n",
    "    invalid_questions = []\n",
    "    gold_sp_nums = []\n",
    "    gold_sp_num_dict = {}\n",
    "    for d_i, d in enumerate(tqdm(data)):\n",
    "        for question in d['QUESTIONS']:\n",
    "            try:\n",
    "                gold_sp = question['SHINT_']\n",
    "                num_gold_sp += len(gold_sp)\n",
    "                if len(gold_sp) not in gold_sp_num_dict:\n",
    "                    gold_sp_num_dict[len(gold_sp)] = 1\n",
    "                else:\n",
    "                    gold_sp_num_dict[len(gold_sp)] += 1\n",
    "                gold_sp_nums.append(len(gold_sp))\n",
    "                valid_questions.append(d)\n",
    "            except Exception as e:\n",
    "                invalid_questions.append(d)\n",
    "                continue\n",
    "    print(\"average_gold_sp:{}\".format(num_gold_sp/len(valid_questions)))\n",
    "    print(\"Valid data:{}\".format(len(valid_questions)))\n",
    "    print(\"Invalid data:{}\".format(len(invalid_questions)))\n",
    "    print(\"max sp_num:{}\".format(max(gold_sp_nums)))\n",
    "    print(\"min sp_num:{}\".format(min(gold_sp_nums)))\n",
    "    \n",
    "    gold_sp_num_list = [(k, v) for k, v in gold_sp_num_dict.items()]\n",
    "    gold_sp_num_list.sort(key=lambda x: x[0])\n",
    "    return gold_sp_num_list"
   ]
  },
  {
   "cell_type": "code",
   "execution_count": 11,
   "metadata": {},
   "outputs": [],
   "source": [
    "train_data = std.json_load(config.COS_TRAIN)\n",
    "dev_data = std.json_load(config.COS_DEV)\n",
    "test_data = std.json_load(config.COS_TEST)"
   ]
  },
  {
   "cell_type": "markdown",
   "metadata": {},
   "source": [
    "# IR Search"
   ]
  },
  {
   "cell_type": "code",
   "execution_count": 89,
   "metadata": {},
   "outputs": [],
   "source": [
    "def search_batch(q_texts, searcher, top_n):\n",
    "    predictions = []\n",
    "    \n",
    "    for q_text in tqdm(q_texts):\n",
    "        prediction = searcher.search(q_text, top_n)\n",
    "        predictions.append([p[0] for p in prediction])\n",
    "    return predictions"
   ]
  },
  {
   "cell_type": "code",
   "execution_count": 92,
   "metadata": {},
   "outputs": [],
   "source": [
    "def eval_cosqa(data, top_n):\n",
    "    searcher_cn = CosQASearcher('zh')\n",
    "    searcher_en = CosQASearcher('en')\n",
    "    \n",
    "    cn_q_texts = []\n",
    "    en_q_texts = []\n",
    "    golds = []\n",
    "    cn_predictions = []\n",
    "    en_predictions = []\n",
    "    for d in tqdm(data):\n",
    "        for question in d['QUESTIONS']:\n",
    "            if len(question['SHINT_']) == 0:\n",
    "                continue\n",
    "            prediction_cn = searcher_cn.search(question['QTEXT_CN'], top_n)\n",
    "            prediction_en = searcher_en.search(question['QTEXT'], top_n)\n",
    "            \n",
    "            cn_pred_doc_ids = [p[0] for p in prediction_cn]\n",
    "            cn_predictions.append(cn_pred_doc_ids)\n",
    "            en_pred_doc_ids = [p[0] for p in prediction_en]\n",
    "            en_predictions.append(en_pred_doc_ids)\n",
    "            golds.append(question['SHINT_'])\n",
    "            \n",
    "            \n",
    "    #search\n",
    "#     cn_predictions = search_batch(cn_q_texts, searcher_cn, top_n)\n",
    "#     en_predictions = search_batch(en_q_texts, searcher_en, top_n)\n",
    "    \n",
    "    print(\"cn: {}\".format(eval_sp(golds, cn_predictions)))\n",
    "    print(\"en: {}\".format(eval_sp(golds, en_predictions)))"
   ]
  },
  {
   "cell_type": "markdown",
   "metadata": {},
   "source": [
    "# IR performance"
   ]
  },
  {
   "cell_type": "code",
   "execution_count": 94,
   "metadata": {},
   "outputs": [],
   "source": [
    "# eval_cosqa(dev_data, 10)"
   ]
  },
  {
   "cell_type": "code",
   "execution_count": 95,
   "metadata": {},
   "outputs": [
    {
     "data": {
      "application/vnd.jupyter.widget-view+json": {
       "model_id": "44c466bb67124171b732b57526e94fdd",
       "version_major": 2,
       "version_minor": 0
      },
      "text/plain": [
       "HBox(children=(IntProgress(value=0, max=2462), HTML(value='')))"
      ]
     },
     "metadata": {},
     "output_type": "display_data"
    },
    {
     "name": "stdout",
     "output_type": "stream",
     "text": [
      "\n"
     ]
    },
    {
     "data": {
      "application/vnd.jupyter.widget-view+json": {
       "model_id": "41daebd19fe34060977dbf491e69b3a5",
       "version_major": 2,
       "version_minor": 0
      },
      "text/plain": [
       "HBox(children=(IntProgress(value=1, bar_style='info', max=1), HTML(value='')))"
      ]
     },
     "metadata": {},
     "output_type": "display_data"
    },
    {
     "name": "stdout",
     "output_type": "stream",
     "text": [
      "\n"
     ]
    },
    {
     "data": {
      "application/vnd.jupyter.widget-view+json": {
       "model_id": "909a60cffaaf4a76ad637dfa9168e033",
       "version_major": 2,
       "version_minor": 0
      },
      "text/plain": [
       "HBox(children=(IntProgress(value=1, bar_style='info', max=1), HTML(value='')))"
      ]
     },
     "metadata": {},
     "output_type": "display_data"
    },
    {
     "name": "stdout",
     "output_type": "stream",
     "text": [
      "\n"
     ]
    },
    {
     "ename": "AssertionError",
     "evalue": "",
     "output_type": "error",
     "traceback": [
      "\u001b[0;31m---------------------------------------------------------------------------\u001b[0m",
      "\u001b[0;31mAssertionError\u001b[0m                            Traceback (most recent call last)",
      "\u001b[0;32m<ipython-input-95-aba6145e4e3d>\u001b[0m in \u001b[0;36m<module>\u001b[0;34m\u001b[0m\n\u001b[0;32m----> 1\u001b[0;31m \u001b[0meval_cosqa\u001b[0m\u001b[0;34m(\u001b[0m\u001b[0mdev_data\u001b[0m\u001b[0;34m,\u001b[0m \u001b[0;36m60\u001b[0m\u001b[0;34m)\u001b[0m\u001b[0;34m\u001b[0m\u001b[0;34m\u001b[0m\u001b[0m\n\u001b[0m",
      "\u001b[0;32m<ipython-input-92-80a93503b0d6>\u001b[0m in \u001b[0;36meval_cosqa\u001b[0;34m(data, top_n)\u001b[0m\n\u001b[1;32m     26\u001b[0m     \u001b[0men_predictions\u001b[0m \u001b[0;34m=\u001b[0m \u001b[0msearch_batch\u001b[0m\u001b[0;34m(\u001b[0m\u001b[0men_q_texts\u001b[0m\u001b[0;34m,\u001b[0m \u001b[0msearcher_en\u001b[0m\u001b[0;34m,\u001b[0m \u001b[0mtop_n\u001b[0m\u001b[0;34m)\u001b[0m\u001b[0;34m\u001b[0m\u001b[0;34m\u001b[0m\u001b[0m\n\u001b[1;32m     27\u001b[0m \u001b[0;34m\u001b[0m\u001b[0m\n\u001b[0;32m---> 28\u001b[0;31m     \u001b[0mprint\u001b[0m\u001b[0;34m(\u001b[0m\u001b[0;34m\"cn: {}\"\u001b[0m\u001b[0;34m.\u001b[0m\u001b[0mformat\u001b[0m\u001b[0;34m(\u001b[0m\u001b[0meval_sp\u001b[0m\u001b[0;34m(\u001b[0m\u001b[0mgolds\u001b[0m\u001b[0;34m,\u001b[0m \u001b[0mcn_predictions\u001b[0m\u001b[0;34m)\u001b[0m\u001b[0;34m)\u001b[0m\u001b[0;34m)\u001b[0m\u001b[0;34m\u001b[0m\u001b[0;34m\u001b[0m\u001b[0m\n\u001b[0m\u001b[1;32m     29\u001b[0m     \u001b[0mprint\u001b[0m\u001b[0;34m(\u001b[0m\u001b[0;34m\"en: {}\"\u001b[0m\u001b[0;34m.\u001b[0m\u001b[0mformat\u001b[0m\u001b[0;34m(\u001b[0m\u001b[0meval_sp\u001b[0m\u001b[0;34m(\u001b[0m\u001b[0mgolds\u001b[0m\u001b[0;34m,\u001b[0m \u001b[0men_predictions\u001b[0m\u001b[0;34m)\u001b[0m\u001b[0;34m)\u001b[0m\u001b[0;34m)\u001b[0m\u001b[0;34m\u001b[0m\u001b[0;34m\u001b[0m\u001b[0m\n",
      "\u001b[0;32m/work/nlu_IR/nlu_IR/evaluation/eval.py\u001b[0m in \u001b[0;36meval_sp\u001b[0;34m(golds, predictions)\u001b[0m\n\u001b[1;32m      2\u001b[0m     \u001b[0mmetrics\u001b[0m \u001b[0;34m=\u001b[0m \u001b[0;34m{\u001b[0m\u001b[0;34m'sp_em'\u001b[0m\u001b[0;34m:\u001b[0m \u001b[0;36m0\u001b[0m\u001b[0;34m,\u001b[0m \u001b[0;34m'sp_prec'\u001b[0m\u001b[0;34m:\u001b[0m \u001b[0;36m0\u001b[0m\u001b[0;34m,\u001b[0m \u001b[0;34m'sp_recall'\u001b[0m\u001b[0;34m:\u001b[0m \u001b[0;36m0\u001b[0m\u001b[0;34m,\u001b[0m \u001b[0;34m'sp_f1'\u001b[0m\u001b[0;34m:\u001b[0m \u001b[0;36m0\u001b[0m\u001b[0;34m}\u001b[0m\u001b[0;34m\u001b[0m\u001b[0;34m\u001b[0m\u001b[0m\n\u001b[1;32m      3\u001b[0m \u001b[0;34m\u001b[0m\u001b[0m\n\u001b[0;32m----> 4\u001b[0;31m     \u001b[0;32massert\u001b[0m \u001b[0mlen\u001b[0m\u001b[0;34m(\u001b[0m\u001b[0mgolds\u001b[0m\u001b[0;34m)\u001b[0m \u001b[0;34m==\u001b[0m \u001b[0mlen\u001b[0m\u001b[0;34m(\u001b[0m\u001b[0mpredictions\u001b[0m\u001b[0;34m)\u001b[0m\u001b[0;34m\u001b[0m\u001b[0;34m\u001b[0m\u001b[0m\n\u001b[0m\u001b[1;32m      5\u001b[0m \u001b[0;34m\u001b[0m\u001b[0m\n\u001b[1;32m      6\u001b[0m     \u001b[0;32mfor\u001b[0m \u001b[0mgold\u001b[0m\u001b[0;34m,\u001b[0m \u001b[0mpred\u001b[0m \u001b[0;32min\u001b[0m \u001b[0mzip\u001b[0m\u001b[0;34m(\u001b[0m\u001b[0mgolds\u001b[0m\u001b[0;34m,\u001b[0m \u001b[0mpredictions\u001b[0m\u001b[0;34m)\u001b[0m\u001b[0;34m:\u001b[0m\u001b[0;34m\u001b[0m\u001b[0;34m\u001b[0m\u001b[0m\n",
      "\u001b[0;31mAssertionError\u001b[0m: "
     ]
    }
   ],
   "source": [
    "eval_cosqa(dev_data, 60)"
   ]
  },
  {
   "cell_type": "code",
   "execution_count": 29,
   "metadata": {},
   "outputs": [
    {
     "data": {
      "application/vnd.jupyter.widget-view+json": {
       "model_id": "4177bdd48b7c4c16a9fedc615615bd94",
       "version_major": 2,
       "version_minor": 0
      },
      "text/plain": [
       "HBox(children=(IntProgress(value=0, max=4907), HTML(value='')))"
      ]
     },
     "metadata": {},
     "output_type": "display_data"
    },
    {
     "name": "stdout",
     "output_type": "stream",
     "text": [
      "\n",
      "average_gold_sp:1.7339559276809127\n",
      "Valid data:21737\n",
      "Invalid data:0\n",
      "max sp_num:58\n",
      "min sp_num:0\n"
     ]
    },
    {
     "data": {
      "application/vnd.jupyter.widget-view+json": {
       "model_id": "86f070d9be1849b8a244cda4ca38fd24",
       "version_major": 2,
       "version_minor": 0
      },
      "text/plain": [
       "HBox(children=(IntProgress(value=0, max=2462), HTML(value='')))"
      ]
     },
     "metadata": {},
     "output_type": "display_data"
    },
    {
     "name": "stdout",
     "output_type": "stream",
     "text": [
      "\n",
      "average_gold_sp:1.8286264441591784\n",
      "Valid data:10906\n",
      "Invalid data:0\n",
      "max sp_num:32\n",
      "min sp_num:0\n"
     ]
    },
    {
     "data": {
      "application/vnd.jupyter.widget-view+json": {
       "model_id": "5534768cf7bd4ea99735422b170eecc6",
       "version_major": 2,
       "version_minor": 0
      },
      "text/plain": [
       "HBox(children=(IntProgress(value=0, max=2459), HTML(value='')))"
      ]
     },
     "metadata": {},
     "output_type": "display_data"
    },
    {
     "name": "stdout",
     "output_type": "stream",
     "text": [
      "\n",
      "average_gold_sp:1.8296915167095116\n",
      "Valid data:10892\n",
      "Invalid data:0\n",
      "max sp_num:47\n",
      "min sp_num:0\n"
     ]
    }
   ],
   "source": [
    "num_sp_list_train = inspect_cosqa(train_data)\n",
    "num_sp_list_dev = inspect_cosqa(dev_data)\n",
    "num_sp_list_test = inspect_cosqa(test_data)"
   ]
  },
  {
   "cell_type": "markdown",
   "metadata": {},
   "source": [
    "# Figure"
   ]
  },
  {
   "cell_type": "code",
   "execution_count": 18,
   "metadata": {},
   "outputs": [],
   "source": [
    "def createLabels(data):\n",
    "    all_height = 0\n",
    "    for item in data:\n",
    "        all_height += item.get_height()\n",
    "    for item in data:\n",
    "        height = item.get_height()\n",
    "        plt.text(\n",
    "            item.get_x()+item.get_width()/2., \n",
    "            height*1.05, \n",
    "            '{}% ({})'.format(int(height/all_height*100), int(height)),\n",
    "            ha = \"center\",\n",
    "            va = \"bottom\",\n",
    "        )"
   ]
  },
  {
   "cell_type": "code",
   "execution_count": 31,
   "metadata": {},
   "outputs": [
    {
     "data": {
      "text/plain": [
       "28"
      ]
     },
     "execution_count": 31,
     "metadata": {},
     "output_type": "execute_result"
    }
   ],
   "source": [
    "len(num_sp_list_train)"
   ]
  },
  {
   "cell_type": "code",
   "execution_count": 38,
   "metadata": {},
   "outputs": [],
   "source": [
    "def plot_num_gold_sp(num_sp_list):\n",
    "    plt.figure(figsize=(80, 10))\n",
    "    plt.subplot(131)\n",
    "    A = plt.bar([str(num_tuple[0]) for num_tuple in num_sp_list], [num_tuple[1] for num_tuple in num_sp_list])\n",
    "    createLabels(A)\n",
    "    plt.title('Number of gold supporting documents')"
   ]
  },
  {
   "cell_type": "code",
   "execution_count": 46,
   "metadata": {},
   "outputs": [
    {
     "data": {
      "image/png": "[encoded data removed]",
      "text/plain": [
       "<Figure size 5760x720 with 1 Axes>"
      ]
     },
     "metadata": {
      "needs_background": "light"
     },
     "output_type": "display_data"
    }
   ],
   "source": [
    "plot_num_gold_sp(num_sp_list_test)"
   ]
  },
  {
   "cell_type": "code",
   "execution_count": 82,
   "metadata": {},
   "outputs": [
    {
     "data": {
      "application/vnd.jupyter.widget-view+json": {
       "model_id": "8d8609bbb066409783e020972a051cc1",
       "version_major": 2,
       "version_minor": 0
      },
      "text/plain": [
       "HBox(children=(IntProgress(value=0, max=2462), HTML(value='')))"
      ]
     },
     "metadata": {},
     "output_type": "display_data"
    },
    {
     "name": "stdout",
     "output_type": "stream",
     "text": [
      "\n"
     ]
    }
   ],
   "source": [
    "no_sp_data = []\n",
    "large_sp_data = []\n",
    "for d_i, d in enumerate(tqdm(dev_data)):\n",
    "    for q in d['QUESTIONS']:\n",
    "        sp_num = len(q['SHINT_'])\n",
    "        if sp_num == 0:\n",
    "            no_sp_data.append(d_i)\n",
    "        if sp_num >= 30:\n",
    "            large_sp_data.append(d_i)"
   ]
  },
  {
   "cell_type": "code",
   "execution_count": 87,
   "metadata": {},
   "outputs": [
    {
     "data": {
      "text/plain": [
       "{'DID': 'wiki-entities_qa_actor_to_movie_dev_701',\n",
       " 'DTEXT': 'Harvey Keitel ( ky-TEL; born May 13, 1939) is an American actor and producer. He has starred in films such as Mean Streets (1973), Taxi Driver (1976), The Duellists (1977), The Last Temptation of Christ (1988), Bugsy (1991), Thelma & Louise (1991), Reservoir Dogs (1992),  Bad Lieutenant (1992), The Piano (1993), Pulp Fiction (1994), From Dusk till Dawn (1996), Cop Land (1997), The Grand Budapest Hotel (2014), Youth (2015) and The Irishman (2019).Keitel has been nominated for a number of accolades in his career, including Academy and Golden Globe awards, and has won an Australian Academy of Cinema and Television Arts Award for Best Actor in a Leading Role for his role in The Piano. From 1995 to 2017, he was a co-president of the Actors Studio, along with actors Al Pacino and Ellen Burstyn.\\nReservoir Dogs is a 1992 American independent crime film written and directed by Quentin Tarantino in his feature-length debut. It stars Harvey Keitel, Tim Roth, Chris Penn, Steve Buscemi, Lawrence Tierney, Michael Madsen, Tarantino, and Edward Bunker, as diamond thieves whose planned heist of a jewelry store goes terribly wrong. The film depicts the events before and after the heist. Kirk Baltz, Randy Brooks and Steven Wright also play supporting roles. It incorporates many motifs that have become Tarantino\\'s hallmarks: violent crime, pop culture references, profanity, and nonlinear storytelling.\\nThe film is regarded as a classic of independent film and a cult film, and was named \"Greatest Independent Film of all Time\" by Empire. Although controversial for its depictions of violence and use of profanity, Reservoir Dogs was generally well received, with the cast being praised by many critics. Despite not being heavily promoted during its theatrical run, the film became a modest success in the United States after grossing $2.8 million against its $1.2 million budget, and was more successful in the United Kingdom, grossing nearly £6.5 million. It achieved higher popularity after the success of Tarantino\\'s next film, Pulp Fiction (1994). A soundtrack was released featuring songs used in the film, which are mostly from the 1970s.\\nRed Dragon is a 2002 German-American psychological horror film based on the novel of the same name by Thomas Harris. It was directed by Brett Ratner and written for the screen by Ted Tally. The film is a prequel to The Silence of the Lambs (1991) and Hannibal (2001). Anthony Hopkins stars as psychiatrist and serial killer, Dr. Hannibal Lecter, and Edward Norton as FBI agent Will Graham. The film also stars Ralph Fiennes, Harvey Keitel, Emily Watson, Mary-Louise Parker, and Philip Seymour Hoffman.\\nThe novel was originally adapted into the film Manhunter (1986). The film was released on 4 October 2002.\\nCop Land is a 1997 American neo-noir crime drama film written and directed by James Mangold, and starring Sylvester Stallone, Harvey Keitel, Ray Liotta, and Robert De Niro.  The supporting cast features Peter Berg, Janeane Garofalo, Edie Falco, Robert Patrick, Michael Rapaport, Annabella Sciorra, Cathy Moriarty, Arthur Nascarella, and John Spencer. The story follows a sheriff (Stallone) in a small New Jersey town inhabited and dominated by corrupt New York City cops. Their corruption grows until he can no longer allow himself to stand by and do nothing.\\nU-571 is a 2000 submarine film directed by Jonathan Mostow and starring Matthew McConaughey, Harvey Keitel, Jon Bon Jovi, Jake Weber, and Matthew Settle. The plot concerns a World War II German submarine boarded by American submariners to capture her Enigma cipher machine.\\nAlthough the film was financially successful and reasonably well received by critics, the plot attracted substantial criticism. British sailors from HMS Bulldog captured the first naval Enigma machine from U-110 in the North Atlantic in May 1941, months before the United States entered the war and three years before the US Navy captured U-505 and its Enigma machine. The anger over these inaccuracies reached the British Parliament, where the Prime Minister, Tony Blair, agreed that the film was an \"affront\" to British sailors. The film was also criticized for portraying German U-boat crews in a negative light by showing them gunning down Allied survivors instead of giving them assistance or taking them aboard as prisoners.\\nMean Streets is a 1973 American crime film directed by Martin Scorsese and co-written by Scorsese and Mardik Martin. The film stars Harvey Keitel and Robert De Niro. It was released by Warner Bros. on October 2, 1973. De Niro won the National Society of Film Critics award for Best Supporting Actor for his role as \"Johnny Boy\" Civello.\\nIn 1997, Mean Streets was selected for preservation in the United States National Film Registry by the Library of Congress as being \"culturally, historically, or aesthetically significant\".\\nThe Piano is a 1993 New Zealand period drama film about a psychologically mute young woman and her pre-adolescent daughter, set during the mid-19th century in a rainy, muddy frontier backwater town on the west coast of New Zealand. It also involves the woman\\'s failing arranged marriage to a frontiersman. The Piano was written and directed by Jane Campion and stars Holly Hunter, Harvey Keitel, Sam Neill, and Anna Paquin in her first acting role. The film\\'s score by Michael Nyman became a best-selling soundtrack album, and Hunter played her own piano pieces for the film. She also served as sign language teacher for Paquin, earning three screen credits. The film is an international co-production by Australian producer Jan Chapman with the French company Ciby 2000.\\nThe Piano was a critical and commercial success, grossing US$140 million worldwide against its US$7 million budget. Hunter and Paquin both received high praise for their respective roles as Ada and Flora McGrath. In 1993, the film won the Palme d\\'Or at the Cannes Film Festival, making Jane Campion the first and only female director to ever receive this award. It won three Academy Awards out of eight total nominations in March 1994: Best Actress for Hunter, Best Supporting Actress for Paquin, and Best Original Screenplay for Campion. Paquin was 11 years old at the time and is the second youngest actor to win an Oscar in a competitive category.\\nThe Last Temptation of Christ is a 1988 epic religious drama film directed by Martin Scorsese. Written by Paul Schrader with uncredited rewrites from Scorsese and Jay Cocks, the film is an adaptation of Nikos Kazantzakis\\' controversial 1955 novel of the same name. The film, starring Willem Dafoe, Harvey Keitel, Barbara Hershey, Andre Gregory, Harry Dean Stanton and David Bowie, and was shot entirely in Morocco.\\nLike the novel, the film depicts the life of Jesus Christ and his struggle with various forms of temptation including fear, doubt, depression, reluctance and lust. This results in the book and film depicting Christ being tempted by imagining himself engaged in sexual activities, a notion that has caused outrage from some Christians.\\nThe film includes a disclaimer stating \"This film is not based on the Gospels, but upon the fictional exploration of the eternal spiritual conflict.\"Like the novel it was based on, the film generated controversy at the time of its release from Christian religious groups, who took issue with its departures from the gospel narratives contained in it. Although a box office failure, it received positive reviews from critics and some religious leaders and Scorsese received a nomination for the Academy Award for Best Director. Hershey\\'s performance as Mary Magdalene earned her a nomination for the Golden Globe for Best Supporting Actress. Peter Gabriel\\'s music score also received acclaim, including a nomination for the Golden Globe Award for Best Original Score.\\nRising Sun is a 1993 American crime film written and directed by Philip Kaufman, starring Sean Connery (who was also an executive producer), Wesley Snipes, Harvey Keitel, and Cary-Hiroyuki Tagawa. Michael Crichton and Michael Backes wrote the screenplay, based on Crichton\\'s novel of the same name.\\nBad Lieutenant is a 1992 American neo-noir crime drama film directed by Abel Ferrara. The film stars Harvey Keitel as the titular \"bad lieutenant\" as well as Victor Argo and Paul Calderón.\\nThe screenplay was co-written by Ferrara with actor-writer Paul Calderón and actress-model Zoë Lund, both of whom appear in the film.\\nThe film was screened in the Un Certain Regard section at the 1992 Cannes Film Festival.\\nHoly Smoke! is a 1999 comedic drama film directed by Jane Campion, and starring Kate Winslet and Harvey Keitel. Its plot follows an American exit counselor (Keitel) who attempts to deprogram a young Australian woman (Winslet) who has been indoctrinated into new age cult in India. Julie Hamilton, Tim Robertson, Daniel Wyllie, and Pam Grier appear in supporting roles.\\nDirector Jane Campion wrote the screenplay for the film with her sister, Anna Campion. The film was a co-production between Australia and the United States. The film premiered at the 56th Venice International Film Festival and was shown at the New York Film Festival and the Taipei Golden Horse Film Festival before being released theatrically.\\nBugsy is a 1991 American biographical crime drama neo noir directed by Barry Levinson which tells the story of mobster Bugsy Siegel and his relationship with Virginia Hill. It stars Warren Beatty as Siegel and Annette Bening as Hill, as well as Harvey Keitel, Ben Kingsley, Elliott Gould, Bebe Neuwirth, and Joe Mantegna. The screenplay was written by James Toback from research material by Dean Jennings\\' 1967 book We Only Kill Each Other.\\nThe film received acclaim from critics, including Roger Ebert, and was nominated for ten Oscars at the 64th Academy Awards, winning two for Best Art Direction-Set Decoration and Best Costume Design.\\nA director\\'s cut was released on DVD, containing an additional 13 minutes not seen in the theatrical version.\\nClockers is a 1995 American crime drama film directed by Spike Lee. It is an adaptation of the 1992 novel of the same name by Richard Price, who also co-wrote the screenplay with Lee. The film stars Harvey Keitel, John Turturro, Delroy Lindo, and Mekhi Phifer in his debut film role. Set in New York City, Clockers tells the story of Strike (Phifer), a street-level drug dealer who becomes entangled in a murder investigation.\\nThe film originally entered production with Martin Scorsese attached to direct; he had previously collaborated with Price on his 1986 film The Color of Money. Scorsese eventually dropped out of production to focus on his passion project Casino, at which point Lee stepped in to direct and rewrite the script, Scorsese remained a co-producer alongside Lee. Clockers received generally positive reviews from film critics, but was a disappointment at the box office, grossing only around $13 million on a $25 million budget.\\nThe Two Jakes is a 1990 American neo-noir mystery film, and the sequel to the 1974 film Chinatown. Directed by and starring Jack Nicholson, it also features Harvey Keitel, Meg Tilly, Madeleine Stowe, Richard Farnsworth, Frederic Forrest, David Keith, Rubén Blades, Tracey Walter and Eli Wallach. Reprising their roles from Chinatown are Joe Mantell, Perry Lopez, James Hong, Allan Warnick and, in a brief voice-over, Faye Dunaway. The character of Katherine Mulwray returns as well, played by Tilly. The musical score for the film is by Van Dyke Parks, who also appears as a prosecuting attorney. The screenplay is by Robert Towne, whose script for Chinatown won an Academy Award.\\nIt was released by Paramount Pictures on August 10, 1990. The film was not a box office success and plans for a third film about J. J. Gittes, with him near the end of his life, were abandoned.\\nHead Above Water is a 1996 American comedy thriller film directed by Jim Wilson and starring Harvey Keitel, Cameron Diaz, Craig Sheffer and Billy Zane. It was rated PG-13 by the MPAA. The film is a remake of Hodet over vannet by Norwegian film director Nils Gaup.\\nSaturn 3 is a 1980 British science fiction film produced and directed by Stanley Donen, and starring Farrah Fawcett, Kirk Douglas and Harvey Keitel. The screenplay was written by Martin Amis, from a story by John Barry. Though a British production (made by Lew Grade\\'s ITC Entertainment and shot at Shepperton Studios), the film has an American cast and director.\\nHarvey Keitel\\'s biographer called the film the \"nadir of his career\".\\nWho\\'s That Knocking at My Door, originally titled I Call First, is a 1967 American independent drama film written and directed by Martin Scorsese and starring Harvey Keitel and Zina Bethune. It was Scorsese\\'s feature film directorial debut and Keitel\\'s debut as an actor. Exploring themes of Catholic guilt similar to those in his later film Mean Streets, the story follows Italian-American J.R. (Keitel) as he struggles to accept the secret hidden by his independent and free-spirited girlfriend (Bethune).\\nThis film was a nominee at the 1967 Chicago Film Festival.\\nBad Timing is a 1980 British psychological drama film directed by Nicolas Roeg and starring Art Garfunkel, Theresa Russell, Harvey Keitel and Denholm Elliott. The plot focuses on an American woman and a psychology professor living in Vienna, and, largely told through nonlinear flashbacks, examines the details of their turbulent relationship as uncovered by a detective investigating her apparent suicide attempt.\\nThe film was controversial upon its release, being branded \"a sick film made by sick people for sick people\" by its own distributor, the Rank Organisation, and was given an X rating in the United States. The film was also shown under the title Bad Timing: A Sensual Obsession before being shelved by the distributor. It went unreleased on home video in the United States until 2005 when The Criterion Collection released their DVD edition.\\nThe January Man is a 1989 crime comedy directed by Pat O\\'Connor from a screenplay by John Patrick Shanley.The film stars Kevin Kline as Nick Starkey, a smart ex-NYPD detective who is lured back into service by his police commissioner brother (Harvey Keitel) when a serial killer terrorizes the city. Nick becomes involved with the mayor\\'s daughter (Mary Elizabeth Mastrantonio) and is aided in his investigation by his neighbor, Ed, an artist (Alan Rickman).\\nCity of Industry is a 1997  neo-noir crime film starring Harvey Keitel, Stephen Dorff and Timothy Hutton. It is directed by John Irvin, produced by Evzen Kolar and Ken Solarz and written by Solarz.\\nCrime Spree is a 2003 Canadian-British comedy-heist thriller film, written and directed by Brad Mirman, starring Gérard Depardieu, Harvey Keitel and French singers Johnny Hallyday and Renaud. The fish out of water film concerns a band of French thieves who get more than they bargain for after burglarizing the home of a Chicago mafia boss.\\nBlue Collar is a 1978 American crime drama film directed by Paul Schrader, in his directorial debut. It was written by Schrader and his brother Leonard, and stars Richard Pryor, Harvey Keitel and Yaphet Kotto. The film is both a critique of union practices and an examination of life in a working-class Rust Belt enclave. Although it has minimal comic elements provided by Pryor, it is mostly dramatic.\\nSchrader, who was at the time a renowned screenwriter for his work on Taxi Driver (1976), recalls the shooting as a very difficult one because of the artistic and personal tensions between himself and the actors (as well as between the stars themselves); also stating that it was the only occasion he suffered an on-set mental breakdown, which made him seriously reconsider his career.The film was shot in Detroit and Kalamazoo, Michigan.\\nThe Border is a 1982 American neo-noir drama film directed by Tony Richardson and starring Jack Nicholson, Harvey Keitel, Valerie Perrine, Elpidia Carrillo and Warren Oates.\\nLulu on the Bridge is a 1998 American romantic-mystery drama film written and directed by author Paul Auster and starring Harvey Keitel, Mira Sorvino, and Willem Dafoe. The film is about a jazz saxophone player whose life is transformed after being shot. After discovering a mysterious stone, he meets and falls in love with a beautiful aspiring actress, but their happiness is cut short by a series of strange, dreamlike events. The film was screened in the Un Certain Regard section at the 1998 Cannes Film Festival.\\nShadows in the Sun is a television movie starring Harvey Keitel and Joshua Jackson. It premiered on ABC Family in 2005.  It was written and directed by Brad Mirman, and was filmed under the title The Shadow Dancer.\\nWrong Turn at Tahoe is a 2009 American action film directed by Franck Khalfoun and starring Cuba Gooding Jr., Miguel Ferrer, and Harvey Keitel.\\nBuffalo Bill and the Indians, or Sitting Bull\\'s History Lesson is a 1976 revisionist Western film directed by Robert Altman and based on the play Indians by Arthur Kopit. It stars Paul Newman as William F. Cody, alias Buffalo Bill, along with Geraldine Chaplin, Will Sampson, Joel Grey, Harvey Keitel and Burt Lancaster as Bill\\'s biographer, Ned Buntline. It was filmed in Panavision by cinematographer Paul Lohmann.\\nAs in his earlier film MASH, Altman skewers an American historical myth of heroism, in this case the notion that noble white men fighting bloodthirsty savages won the West. However, the film was poorly received at the time of its release, as the country was celebrating its bicentennial.\\nTaking Sides (German title Taking Sides - Der Fall Furtwängler) is a 2001 German-French-Austrian-British biographical drama film directed by István Szabó and starring Harvey Keitel and Stellan Skarsgård. The story is set during the period of denazification investigations conducted in post-war Germany after the Second World War, and it is based on the real interrogations that took place between a U.S. Army investigator and the musical conductor Wilhelm Furtwängler, who had been charged with serving the Nazi regime. It is based on the 1995 play of the same title by Ronald Harwood.\\nThe film was shot on location in Germany with the dialogue in German and English, although in the version released in the US and the UK the dialogue is only in English.\\nDangerous Game (also known as Snake Eyes) is a 1993 Italian-American drama film directed by Abel Ferrara, written by Nicholas St. John, and starring Madonna, Harvey Keitel, and James Russo.\\nA Beginner\\'s Guide to Endings is a 2010 film directed by Jonathan Sobol and starring Harvey Keitel, Scott Caan, and J.K. Simmons.\\nImaginary Crimes is a 1994 drama film directed by Anthony Drazan, and an adaptation of Sheila Ballantyne\\'s 1982 novel of the same name. The film stars Harvey Keitel and Fairuza Balk, and tells the story of Ray Weiler (Keitel), a widowed hustler trying to raise his two daughters in 1962 Portland, Oregon.  His eldest daughter Sonya (Balk) is a gifted student and writer who attempts to start a life for herself despite her father\\'s inability to change his self-destructive behaviour. Her journal entries form the basis of retrospective scenes documenting the family\\'s story.\\nExposed is a 1983 American drama film written, produced and directed by James Toback. It stars Nastassja Kinski, Rudolf Nureyev, Harvey Keitel, Ian McShane and Bibi Andersson.',\n",
       " 'DTEXT_CN': '哈维·凯特尔（ky TEL；生于1939年5月13日）是美国演员和制片人。他曾主演过卑鄙的街道（1973年）、出租车司机（1976年）、二重唱（1977年）、基督最后的诱惑（1988年）、哈维·凯特尔2（1991年）、Thelma&Louise（1991年）、储液犬（1992年）、哈维·凯特尔0（1992年）、钢琴（1993年）、低俗小说（1994年）、从黄昏到黎明（1996年）、警察区（1997年）、布达佩斯大酒店（2014年）、青年（2015年）和爱尔兰人（2019年）等影片。Keitel获得了多项提名在其职业生涯中获得的荣誉，包括奥斯卡奖和金球奖，并因在钢琴中的角色获得澳大利亚电影电视艺术学院最佳男主角奖。1995年至2017年，他与演员阿尔·帕西诺和埃伦·伯斯蒂恩一起担任演员工作室的联合总裁。\\n储液犬是一部1992年由昆汀·塔伦蒂诺执导的美国独立犯罪电影，在其长篇处女作中首次亮相。该片由哈维·凯特尔、Tim Roth、Chris Penn、Steve Buscemi、Lawrence Tierney、Michael Madsen、Tarantino和Edward Bunker主演，他们是钻石窃贼，他们计划抢劫一家珠宝店的行为大错特错。这部电影描述了抢劫前后的事件。柯克·巴尔茨、兰迪·布鲁克斯和史蒂文·赖特也扮演配角。它融合了许多已经成为塔伦蒂诺标志的主题：暴力犯罪、流行文化、亵渎和非线性故事，被视为独立电影和邪教电影的经典，被帝国命名为“有史以来最伟大的独立电影”。尽管储液犬因其对暴力和亵渎的描写而备受争议，但它还是受到了广泛的欢迎，演员受到了许多评论家的赞扬。尽管这部电影在戏剧运作期间没有得到大力宣传，但在美国获得了280万美元的票房收入，而其120万美元的预算却获得了不小的成功，在英国获得了更大的成功，票房近650万英镑。在塔伦蒂诺的下一部电影《低俗小说》（1994）获得成功后，它获得了更高的人气。影片中使用的歌曲大多来自20世纪70年代。\\n红龙是2002年根据托马斯·哈里斯同名小说改编的德美心理恐怖片。它是由布雷特·拉特纳导演，泰德·塔利为银幕创作的。这部电影是《沉默的羔羊》（1991）和《汉尼拔》（2001）的前传。安东尼·霍普金斯饰演精神病医生兼连环杀手，汉尼拔·莱克特博士，爱德华·诺顿饰演联邦调查局特工威尔·格雷厄姆。这部电影还由拉尔夫·费恩斯、哈维·凯特尔、艾米莉·沃森、玛丽·路易斯·帕克和菲利普·西摩·霍夫曼主演，小说最初改编成电影《曼亨特》（1986）。这部电影于2002年10月4日上映。\\n警察区是一部1997年由詹姆斯·芒戈尔德执导的美国新黑帮犯罪戏剧电影，由西尔维斯特·史泰龙、哈维·凯特尔、雷·利奥塔和罗伯特·德尼罗主演。配角有彼得·伯格、珍妮娜·加罗法罗、伊迪·法尔科、罗伯特·帕特里克、迈克尔·拉帕波特、安娜贝拉·塞奥拉、凯西·莫里亚蒂、亚瑟·纳斯卡雷拉和约翰·斯宾塞。故事发生在新泽西州一个小镇的一位治安官（史泰龙饰）身上，这个小镇上居住着腐败的纽约市警察。他们的腐败越来越严重，直到他不再允许自己袖手旁观，无所事事。\\nU-571型是一部2000年的潜艇电影，由乔纳森·莫斯托执导，马修·麦康纳、哈维·凯特尔、乔恩·邦乔维、杰克·韦伯和马修·塞尔特主演。故事情节涉及一艘二战时期的德国潜艇，美国潜艇人员登上这艘潜艇捕捉她的神秘密码机。尽管这部电影在经济上取得了成功，也受到了评论家的一致好评，但故事情节却引来了大量批评。1941年5月，在美国开战前几个月，在美国海军占领U-505及其谜机前三年，英国海军斗牛犬号（HMS Bulldog）的水兵从北大西洋的U-110上捕获了第一台海军谜机。对这些错误的愤怒传到了英国议会，英国首相托尼布莱尔同意这部电影是对英国水手的“侮辱”。这部电影还被批评描绘了德国潜艇船员的负面形象，他们用枪杀盟军幸存者，而不是给予他们帮助或把他们当作囚犯带上船。\\n卑鄙的街道是一部1973年的美国犯罪片，由马丁·斯科塞斯执导，斯科塞斯和马迪克·马丁合著。这部电影由哈维·凯特尔和罗伯特·德尼罗主演。1973年10月2日由华纳兄弟公司发行。德尼罗凭借扮演“约翰尼男孩”的角色获得了国家电影评论协会最佳男配角奖。1997年，卑鄙的街道被国会图书馆选为“具有文化、历史或美学意义”的美国国家电影登记处保存。\\n钢琴是一部1993年的新西兰时期的戏剧电影，讲述的是一个心理上沉默的年轻女子和她青春期前的女儿，故事发生在19世纪中叶新西兰西海岸一个多雨、泥泞的边疆小镇。它还涉及到妇女与边疆人的包办婚姻失败。钢琴由简·坎皮恩执导，霍莉·亨特、哈维·凯特尔、山姆·尼尔和安娜·帕奎因主演，是她的第一个表演角色。这部由迈克尔·尼曼（Michael Nyman）执导的电影的配乐成为了一张畅销的配乐专辑，亨特为这部电影演奏了自己的钢琴曲。她还担任帕奎因的手语教师，获得三个银幕学分。这部电影是由澳大利亚制片人简·查普曼与法国Ciby 2000公司共同制作的国际影片。钢琴在商业上取得了重大成功，在全球范围内的票房收入为1.4亿美元，而其700万美元的预算则为1.4亿美元。亨特和帕奎因各自扮演艾达和弗洛拉·麦格拉斯而受到高度赞扬。1993年，该片在戛纳电影节上获得金棕榈奖，使简·坎皮恩成为第一位也是唯一一位获得该奖项的女导演。它在1994年3月的八项提名中获得了三项奥斯卡奖：亨特最佳女主角，帕奎因最佳女配角，坎皮恩最佳原创剧本。帕奎因当时11岁，是第二位最年轻的奥斯卡角逐演员。\\n基督最后的诱惑是一部1988年由马丁·斯科塞斯执导的史诗宗教戏剧电影。这部电影是由保罗·施雷德（Paul Schrader）根据斯科塞斯（Scorsese）和杰伊·科克斯（Jay Cocks）未经授权的重写而写，改编自尼古斯·卡赞扎基斯（Nikos Kazantzakis）1955年颇具争议的同名小说。这部电影由威廉·达福、哈维·凯特尔、芭芭拉·赫希、安德烈·格雷戈里、哈里·迪恩·斯坦顿和大卫·鲍伊主演，完全在摩洛哥拍摄，与小说一样，影片描绘了耶稣基督的一生以及他与各种形式诱惑的斗争，包括恐惧、怀疑、沮丧、不情愿和欲望。这导致了书和电影中描写基督被自己的性行为所诱惑，这一观念引起了一些基督徒的愤怒。电影中有一个免责声明，声明“这部电影不是基于福音书，但在对永恒的精神冲突的虚构探索上，”就像它所基于的小说一样，这部电影在从基督教宗教团体发行时引起了争议，他们对它背离了其中所包含的福音故事提出了异议。虽然票房失败，但它得到了评论家和一些宗教领袖的积极评价，斯科塞斯获得奥斯卡最佳导演奖提名。好时的表现，玛丽抹大拉为她赢得了金球奖最佳女配角提名。彼得·加布里埃尔的音乐作品也受到好评，包括获得金球奖最佳原创音乐奖提名。\\n朝阳是一部1993年由菲利普·考夫曼执导的美国犯罪片，由肖恩·康纳利（同时也是执行制片人）、卫斯理·斯奈普斯、哈维·凯特尔和卡里·田川裕久主演。迈克尔·克里顿和迈克尔·巴克斯根据克里顿同名小说创作了这部剧本。\\n哈维·凯特尔0是一部1992年由阿贝尔·费拉拉执导的美国新黑人犯罪戏剧电影。这部电影由哈维·凯特尔饰演名义上的“坏中尉”，维克托·阿尔戈和保罗·卡尔德龙主演，剧本由费拉拉与男作家保罗·卡尔德龙和女演员模特佐伊·隆德共同编剧，他们都出现在影片中，该片于1992年戛纳电影节在联合国某些方面放映。\\n神圣的哈维·凯特尔1！是一部1999年的喜剧戏剧电影，由简·坎皮恩执导，凯特·温丝莱特和哈维·凯特尔主演。它的情节发生在一位美国退学顾问（Keitel）试图剥夺一位年轻的澳大利亚妇女（Winslet）的权利，她被灌输到印度的新时代邪教中。朱莉·汉密尔顿、蒂姆·罗伯逊、丹尼尔·怀利和帕姆·格里尔出演配角，导演简·坎皮恩与妹妹安娜·坎皮恩共同为影片撰写剧本。这部电影是澳大利亚和美国合拍的。该片在第56届威尼斯国际电影节首映，并在纽约电影节和台北金马电影节上映，随后在影院上映。\\n《哈维·凯特尔2》是1991年由巴里·莱文森执导的美国传记犯罪剧《新黑鬼》，讲述了黑帮分子哈维·凯特尔2西格尔的故事以及他与弗吉尼亚山的关系。该片由沃伦·比蒂饰演西格尔，安妮特·贝宁饰演希尔，以及哈维·凯特尔、本·金斯利、埃利奥特·古尔德、贝贝·诺沃思和乔·曼特格纳主演。这部电影的剧本是詹姆斯·多巴克根据詹宁斯院长1967年出版的《我们只会互相残杀》一书中的研究材料撰写的。这部电影获得了包括罗杰·埃伯特在内的评论家的好评，并在第64届奥斯卡奖上获得了十项奥斯卡奖提名，获得了两项最佳艺术指导布景装饰和最佳服装设计奖。导演的剪辑发表于DVD，包含在戏剧版中看不到的额外13分钟。\\n哈维·凯特尔3是一部1995年由斯派克·李执导的美国犯罪戏剧电影。这是1992年理查德·普莱斯（Richard Price）同名小说的改编本，他还与李安共同撰写了这部剧本。这部电影由哈维·凯特尔、John Turturro、Delroy Lindo和Mekhi Phifer主演。以纽约市为背景，哈维·凯特尔3讲述了一名街头毒贩斯泰克（Phifer）卷入谋杀案调查的故事。这部电影最初是与导演马丁·斯科塞斯（Martin Scorsese）合作拍摄的，他之前曾与普莱斯合作拍摄了1986年的电影《金钱的颜色》。斯科塞斯最终退出了制作，专注于他的激情项目赌场，在这一点上，李介入导演和重写剧本，斯科塞斯仍然是一个共同制片人与李。哈维·凯特尔3受到影评人的普遍好评，但票房却令人失望，在2500万美元的预算下，票房仅为1300万美元左右。\\n哈维·凯特尔4是一部1990年的美国新黑色神秘电影，也是1974年电影《唐人街》的续集。由杰克·尼科尔森执导并主演的影片还包括哈维·凯特尔、梅格·蒂利、马德琳·斯托、理查德·法恩斯沃斯、弗雷德里克·福雷斯特、大卫·基思、鲁宾·布莱德、特蕾西·沃尔特和伊莱·华莱赫。在唐人街重演他们角色的是乔·曼特尔、佩里·洛佩兹、詹姆斯·洪、艾伦·沃尼克，在一个简短的配音中还有费耶·邓纳威。凯瑟琳·穆雷的角色也回来了，由蒂莉扮演。影片的配乐由范戴克·帕克斯（Van Dyke Parks）担任，他还以检察官的身份出现。这部电影剧本由罗伯特·汤恩执导，他为唐人街创作的剧本获得了奥斯卡奖。1990年8月10日派拉蒙影业公司发行。这部电影并没有获得票房成功，第三部关于吉特斯的电影的计划也被放弃了，吉特斯即将寿终正寝。\\n哈维·凯特尔5是一部1996年的美国喜剧惊悚片，由吉姆·威尔逊执导，由哈维·凯特尔、卡梅隆·迪亚兹、克雷格·谢弗和比利·赞恩主演。它被MPAA评为PG-13级。这部电影是由挪威电影导演尼尔斯·高普翻拍的。\\n哈维·凯特尔6是一部1980年的英国科幻电影，由斯坦利·多恩（Stanley Donen）制作和执导，由法拉·福塞特（Farrah Fawcett）、柯克·道格拉斯（Kirk Douglas）和哈维·凯特尔主演。这部剧本是马丁·埃米斯根据约翰·巴里的一个故事写的。虽然这部电影是英国的一部作品（由卢·格雷德的ITC娱乐公司制作，在谢伯顿电影公司拍摄），但它有一位美国演员和导演。哈维·凯特尔的传记作者称这部电影是“他职业生涯的最低点”。\\n哈维·凯特尔7原名《我先打电话》，是一部1967年由马丁·斯科塞斯编导、哈维·凯特尔和吉娜·白求恩主演的美国独立戏剧电影。这是斯科塞斯的故事片导演处女作和凯特尔的演员处女作。在探索天主教内疚的主题时，与他后来的电影《卑鄙的街道》相似，故事讲述的是意大利裔美国人J.R.（凯特尔饰）努力接受他独立自由的女友（白求恩饰）隐藏的秘密。这部电影是1967年芝加哥电影节的提名影片。\\n哈维·凯特尔8是一部1980年的英国心理戏剧电影，由尼古拉斯·罗格执导，由艺术加芬克尔、特雷莎·罗素、哈维·凯特尔和登霍姆·埃利奥特主演。剧情聚焦于一位居住在维也纳的美国女性和一位心理学教授，主要通过非线性倒叙来讲述，并考察了一名侦探在调查她明显的自杀企图时发现的他们之间动荡关系的细节，被自己的发行商Rank Organization冠以“一部由病人为病人制作的病态电影”的称号，并在美国获得X级评级。这部电影在被发行方搁置之前，也曾以《哈维·凯特尔8：一种肉欲的痴迷》为题放映。直到2005年标准集发行DVD版，它才在美国家庭视频上发行。\\n《哈维·凯特尔9》是一部1989年的犯罪喜剧，由帕特·奥康纳执导，约翰·帕特里克·尚利编剧。该片由凯文·克林饰演尼克·斯塔基，他是纽约警局的一名聪明的前警探，在连环杀手恐吓纽约市时，他被警察局长的弟弟（哈维·凯特尔）引诱回去服役。尼克与市长的女儿玛丽·伊丽莎白·马斯特兰托尼（Mary Elizabeth Mastrantonio）发生了关系，他的邻居、艺术家艾德（Alan Rickman）协助他进行了调查。\\n储液犬0是1997年由哈维·凯特尔、斯蒂芬多夫和蒂莫西哈顿主演的一部新黑色犯罪片。它是由约翰·欧文导演，埃夫岑·科拉尔和肯·索拉兹制作，索拉兹编剧。\\n储液犬1是一部2003年加拿大-英国喜剧抢劫惊悚片，由布拉德·米尔曼执导，杰拉德·德帕迪约、哈维·凯特尔和法国歌手约翰尼·哈利戴和雷诺主演。《水落石出》电影讲述的是一群法国小偷在抢劫了芝加哥一个黑手党老板的家后，得到了比他们所能买到的更多的东西。\\n储液犬2是一部1978年的美国犯罪戏剧电影，由保罗施拉德执导，在他的导演处女作。这是由施拉德和他的兄弟伦纳德，主演理查德普赖尔，哈维·凯特尔和亚菲特科托。这部电影既是对工会做法的批判，也是对工人阶级铁锈地带飞地生活的审视。尽管普赖尔提供的喜剧元素很少，但大部分都是戏剧化的。施雷德当时是一位著名的编剧，因为他在《出租车司机》（1976年）一书中的表现，他回忆说，由于他和演员之间（以及明星之间）的艺术和个人紧张关系，这次拍摄非常困难；他还说，这是他唯一一次在片场精神崩溃，这让他重新考虑自己的职业生涯。这部电影是在底特律和密歇根州卡拉马祖拍摄的。\\n储液犬3是一部1982年的美国新黑色戏剧电影，由托尼·理查森执导，杰克·尼科尔森、哈维·凯特尔、瓦莱丽·佩林、埃尔皮迪亚·卡里略和沃伦·奥茨主演。\\n储液犬5是一部1998年美国浪漫主义神秘戏剧电影，由作家保罗·奥斯特执导，由哈维·凯特尔、米拉·索维诺和威廉·达福主演。这部电影讲述的是一位爵士萨克斯管演奏者被拍摄后的生活发生了变化。在发现了一块神秘的石头后，他遇到了一位有抱负的美丽女演员并爱上了她，但他们的幸福却被一系列奇怪的、梦幻般的事件打断了。这部电影在1998年戛纳电影节的联合国某些方面放映。\\n储液犬6是一部由哈维·凯特尔和Joshua Jackson主演的电视电影。它于2005年在美国广播公司首播。这部电影由布拉德·米尔曼执导，并以“影子舞者”为题拍摄。\\n储液犬7是一部2009年的美国动作片，由弗朗克·卡夫恩执导，小古巴·古丁、米格尔·费雷尔和哈维·凯特尔主演。\\n储液犬8，储液犬9是一部1976年的西方修正主义电影，由罗伯特·奥尔特曼执导，改编自亚瑟·科皮特的话剧《印第安人》。该片由保罗·纽曼饰演威廉·科迪（William F.Cody），别名布法罗·比尔（Buffalo Bill），杰拉尔丁·卓别林（Geraldine Chaplin），威尔·桑普森（Will Sampson），乔尔·格雷（Joel Grey），哈维·凯特尔和伯特·兰开斯特（Burt Lancaster）饰演比尔的传记作家内德·邦特琳（Ned Buntline）。这是电影摄影师保罗罗曼在帕纳维翁拍摄的，就像他早期的电影《混搭》一样，奥特曼歪曲了美国历史上英雄主义的神话，在这种情况下，与嗜血的野蛮人作战的高贵白人赢得了西方。然而，这部电影在上映时收视率很低，因为该国正在庆祝它的二百周年纪念日。\\n红龙0（德语名称红龙0-Der Fall Furtwängler）是2001年由伊斯特万·萨博执导、哈维·凯特尔和斯特拉恩·斯卡尔斯格德主演的德法奥英传记戏剧电影，故事发生在二战后德国进行的变性调查期间，这是基于一名美国陆军调查员和被控为纳粹政权服务的音乐指挥威廉·富特温格勒之间的真实审讯。这部电影是根据1995年罗纳德·哈伍德（Ronald Harwood）的同名剧本改编的，影片是在德国拍摄的，对白是德语和英语，不过在美国和英国发行的版本中，对白只是英语。\\n红龙1（也被称为蛇眼）是1993年由阿贝尔·费拉拉执导，尼古拉斯·圣约翰执笔，麦当娜、哈维·凯特尔和詹姆斯·鲁索主演的美籍意大利戏剧电影。\\n红龙2是一部2010年的电影，由乔纳森·索博尔执导，由哈维·凯特尔、斯科特·卡恩和J.K.西蒙斯主演。\\n红龙3是1994年安东尼·德拉赞导演的一部戏剧电影，改编自希拉·巴兰坦1982年的同名小说。这部电影由哈维·凯特尔和Fairuza Balk主演，讲述了1962年俄勒冈州波特兰市的一个寡妇骗子Ray Weiler（Keitel）试图抚养两个女儿的故事。他的大女儿索尼娅（Balk）是一个有天赋的学生和作家，尽管父亲无法改变他自毁的行为，但她仍试图开始自己的生活。她的日记条目构成了记录这个家庭故事的回顾性场景的基础。\\n红龙4是1983年由詹姆斯·托巴克创作、制作和执导的美国戏剧电影。它由纳斯塔斯卡·金斯基、鲁道夫·努雷耶夫、哈维·凯特尔、伊恩·麦克沙恩和比比·安德森主演。',\n",
       " 'DTEXT_TW': '哈維·凱特爾（ky TEL；生於1939年5月13日）是美國演員和製片人。他曾主演過卑鄙的街道（1973年）、出租車司機（1976年）、二重唱（1977年）、基督最後的誘惑（1988年）、哈維·凱特爾2（1991年）、Thelma&Louise（1991年）、儲液犬（1992年）、哈維·凱特爾0（1992年）、鋼琴（1993年）、低俗小說（1994年）、從黃昏到黎明（1996年）、警察區（1997年）、布達佩斯大酒店（2014年）、青年（2015年）和愛爾蘭人（2019年）等影片。Keitel獲得了多項提名在其職業生涯中獲得的榮譽，包括奧斯卡獎和金球獎，並因在鋼琴中的角色獲得澳大利亞電影電視藝術學院最佳男主角獎。1995年至2017年，他與演員阿爾·帕西諾和埃倫·伯斯蒂恩一起擔任演員工作室的聯合總裁。\\n儲液犬是一部1992年由昆汀·塔倫蒂諾執導的美國獨立犯罪電影，在其長篇處女作中首次亮相。該片由哈維·凱特爾、Tim Roth、Chris Penn、Steve Buscemi、Lawrence Tierney、Michael Madsen、Tarantino和Edward Bunker主演，他們是鑽石竊賊，他們計劃搶劫一家珠寶店的行爲大錯特錯。這部電影描述了搶劫前後的事件。柯克·巴爾茨、蘭迪·布魯克斯和史蒂文·賴特也扮演配角。它融合了許多已經成爲塔倫蒂諾標誌的主題：暴力犯罪、流行文化、褻瀆和非線性故事，被視爲獨立電影和邪教電影的經典，被帝國命名爲“有史以來最偉大的獨立電影”。儘管儲液犬因其對暴力和褻瀆的描寫而備受爭議，但它還是受到了廣泛的歡迎，演員受到了許多評論家的讚揚。儘管這部電影在戲劇運作期間沒有得到大力宣傳，但在美國獲得了280萬美元的票房收入，而其120萬美元的預算卻獲得了不小的成功，在英國獲得了更大的成功，票房近650萬英鎊。在塔倫蒂諾的下一部電影《低俗小說》（1994）獲得成功後，它獲得了更高的人氣。影片中使用的歌曲大多來自20世紀70年代。\\n紅龍是2002年根據托馬斯·哈里斯同名小說改編的德美心理恐怖片。它是由佈雷特·拉特納導演，泰德·塔利爲銀幕創作的。這部電影是《沉默的羔羊》（1991）和《漢尼拔》（2001）的前傳。安東尼·霍普金斯飾演精神病醫生兼連環殺手，漢尼拔·萊克特博士，愛德華·諾頓飾演聯邦調查局特工威爾·格雷厄姆。這部電影還由拉爾夫·費恩斯、哈維·凱特爾、艾米莉·沃森、瑪麗·路易斯·帕克和菲利普·西摩·霍夫曼主演，小說最初改編成電影《曼亨特》（1986）。這部電影於2002年10月4日上映。\\n警察區是一部1997年由詹姆斯·芒戈爾德執導的美國新黑幫犯罪戲劇電影，由西爾維斯特·史泰龍、哈維·凱特爾、雷·利奧塔和羅伯特·德尼羅主演。配角有彼得·伯格、珍妮娜·加羅法羅、伊迪·法爾科、羅伯特·帕特里克、邁克爾·拉帕波特、安娜貝拉·塞奧拉、凱西·莫里亞蒂、亞瑟·納斯卡雷拉和約翰·斯賓塞。故事發生在新澤西州一個小鎮的一位治安官（史泰龍飾）身上，這個小鎮上居住着腐敗的紐約市警察。他們的腐敗越來越嚴重，直到他不再允許自己袖手旁觀，無所事事。\\nU-571型是一部2000年的潛艇電影，由喬納森·莫斯托執導，馬修·麥康納、哈維·凱特爾、喬恩·邦喬維、傑克·韋伯和馬修·塞爾特主演。故事情節涉及一艘二戰時期的德國潛艇，美國潛艇人員登上這艘潛艇捕捉她的神祕密碼機。儘管這部電影在經濟上取得了成功，也受到了評論家的一致好評，但故事情節卻引來了大量批評。1941年5月，在美國開戰前幾個月，在美國海軍佔領U-505及其謎機前三年，英國海軍鬥牛犬號（HMS Bulldog）的水兵從北大西洋的U-110上捕獲了第一臺海軍謎機。對這些錯誤的憤怒傳到了英國議會，英國首相托尼布萊爾同意這部電影是對英國水手的“侮辱”。這部電影還被批評描繪了德國潛艇船員的負面形象，他們用槍殺盟軍倖存者，而不是給予他們幫助或把他們當作囚犯帶上船。\\n卑鄙的街道是一部1973年的美國犯罪片，由馬丁·斯科塞斯執導，斯科塞斯和馬迪克·馬丁合著。這部電影由哈維·凱特爾和羅伯特·德尼羅主演。1973年10月2日由華納兄弟公司發行。德尼羅憑藉扮演“約翰尼男孩”的角色獲得了國家電影評論協會最佳男配角獎。1997年，卑鄙的街道被國會圖書館選爲“具有文化、歷史或美學意義”的美國國家電影登記處保存。\\n鋼琴是一部1993年的新西蘭時期的戲劇電影，講述的是一個心理上沉默的年輕女子和她青春期前的女兒，故事發生在19世紀中葉新西蘭西海岸一個多雨、泥濘的邊疆小鎮。它還涉及到婦女與邊疆人的包辦婚姻失敗。鋼琴由簡·坎皮恩執導，霍莉·亨特、哈維·凱特爾、山姆·尼爾和安娜·帕奎因主演，是她的第一個表演角色。這部由邁克爾·尼曼（Michael Nyman）執導的電影的配樂成爲了一張暢銷的配樂專輯，亨特爲這部電影演奏了自己的鋼琴曲。她還擔任帕奎因的手語教師，獲得三個銀幕學分。這部電影是由澳大利亞製片人簡·查普曼與法國Ciby 2000公司共同製作的國際影片。鋼琴在商業上取得了重大成功，在全球範圍內的票房收入爲1.4億美元，而其700萬美元的預算則爲1.4億美元。亨特和帕奎因各自扮演艾達和弗洛拉·麥格拉斯而受到高度讚揚。1993年，該片在戛納電影節上獲得金棕櫚獎，使簡·坎皮恩成爲第一位也是唯一一位獲得該獎項的女導演。它在1994年3月的八項提名中獲得了三項奧斯卡獎：亨特最佳女主角，帕奎因最佳女配角，坎皮恩最佳原創劇本。帕奎因當時11歲，是第二位最年輕的奧斯卡角逐演員。\\n基督最後的誘惑是一部1988年由馬丁·斯科塞斯執導的史詩宗教戲劇電影。這部電影是由保羅·施雷德（Paul Schrader）根據斯科塞斯（Scorsese）和傑伊·科克斯（Jay Cocks）未經授權的重寫而寫，改編自尼古斯·卡贊扎基斯（Nikos Kazantzakis）1955年頗具爭議的同名小說。這部電影由威廉·達福、哈維·凱特爾、芭芭拉·赫希、安德烈·格雷戈裏、哈里·迪恩·斯坦頓和大衛·鮑伊主演，完全在摩洛哥拍攝，與小說一樣，影片描繪了耶穌基督的一生以及他與各種形式誘惑的鬥爭，包括恐懼、懷疑、沮喪、不情願和慾望。這導致了書和電影中描寫基督被自己的性行爲所誘惑，這一觀念引起了一些基督徒的憤怒。電影中有一個免責聲明，聲明“這部電影不是基於福音書，但在對永恆的精神衝突的虛構探索上，”就像它所基於的小說一樣，這部電影在從基督教宗教團體發行時引起了爭議，他們對它背離了其中所包含的福音故事提出了異議。雖然票房失敗，但它得到了評論家和一些宗教領袖的積極評價，斯科塞斯獲得奧斯卡最佳導演獎提名。好時的表現，瑪麗抹大拉爲她贏得了金球獎最佳女配角提名。彼得·加布裏埃爾的音樂作品也受到好評，包括獲得金球獎最佳原創音樂獎提名。\\n朝陽是一部1993年由菲利普·考夫曼執導的美國犯罪片，由肖恩·康納利（同時也是執行製片人）、衛斯理·斯奈普斯、哈維·凱特爾和卡里·田川裕久主演。邁克爾·克里頓和邁克爾·巴克斯根據克里頓同名小說創作了這部劇本。\\n哈維·凱特爾0是一部1992年由阿貝爾·費拉拉執導的美國新黑人犯罪戲劇電影。這部電影由哈維·凱特爾飾演名義上的“壞中尉”，維克托·阿爾戈和保羅·卡爾德龍主演，劇本由費拉拉與男作家保羅·卡爾德龍和女演員模特佐伊·隆德共同編劇，他們都出現在影片中，該片於1992年戛納電影節在聯合國某些方面放映。\\n神聖的哈維·凱特爾1！是一部1999年的喜劇戲劇電影，由簡·坎皮恩執導，凱特·溫絲萊特和哈維·凱特爾主演。它的情節發生在一位美國退學顧問（Keitel）試圖剝奪一位年輕的澳大利亞婦女（Winslet）的權利，她被灌輸到印度的新時代邪教中。朱莉·漢密爾頓、蒂姆·羅伯遜、丹尼爾·懷利和帕姆·格里爾出演配角，導演簡·坎皮恩與妹妹安娜·坎皮恩共同爲影片撰寫劇本。這部電影是澳大利亞和美國合拍的。該片在第56屆威尼斯國際電影節首映，並在紐約電影節和臺北金馬電影節上映，隨後在影院上映。\\n《哈維·凱特爾2》是1991年由巴里·萊文森執導的美國傳記犯罪劇《新黑鬼》，講述了黑幫分子哈維·凱特爾2西格爾的故事以及他與弗吉尼亞山的關係。該片由沃倫·比蒂飾演西格爾，安妮特·貝寧飾演希爾，以及哈維·凱特爾、本·金斯利、埃利奧特·古爾德、貝貝·諾沃思和喬·曼特格納主演。這部電影的劇本是詹姆斯·多巴克根據詹寧斯院長1967年出版的《我們只會互相殘殺》一書中的研究材料撰寫的。這部電影獲得了包括羅傑·埃伯特在內的評論家的好評，並在第64屆奧斯卡獎上獲得了十項奧斯卡獎提名，獲得了兩項最佳藝術指導佈景裝飾和最佳服裝設計獎。導演的剪輯發表於DVD，包含在戲劇版中看不到的額外13分鐘。\\n哈維·凱特爾3是一部1995年由斯派克·李執導的美國犯罪戲劇電影。這是1992年理查德·普萊斯（Richard Price）同名小說的改編本，他還與李安共同撰寫了這部劇本。這部電影由哈維·凱特爾、John Turturro、Delroy Lindo和Mekhi Phifer主演。以紐約市爲背景，哈維·凱特爾3講述了一名街頭毒販斯泰克（Phifer）捲入謀殺案調查的故事。這部電影最初是與導演馬丁·斯科塞斯（Martin Scorsese）合作拍攝的，他之前曾與普萊斯合作拍攝了1986年的電影《金錢的顏色》。斯科塞斯最終退出了製作，專注於他的激情項目賭場，在這一點上，李介入導演和重寫劇本，斯科塞斯仍然是一個共同製片人與李。哈維·凱特爾3受到影評人的普遍好評，但票房卻令人失望，在2500萬美元的預算下，票房僅爲1300萬美元左右。\\n哈維·凱特爾4是一部1990年的美國新黑色神祕電影，也是1974年電影《唐人街》的續集。由傑克·尼科爾森執導並主演的影片還包括哈維·凱特爾、梅格·蒂利、馬德琳·斯托、理查德·法恩斯沃斯、弗雷德裏克·福雷斯特、大衛·基思、魯賓·布萊德、特蕾西·沃爾特和伊萊·華萊赫。在唐人街重演他們角色的是喬·曼特爾、佩裏·洛佩茲、詹姆斯·洪、艾倫·沃尼克，在一個簡短的配音中還有費耶·鄧納威。凱瑟琳·穆雷的角色也回來了，由蒂莉扮演。影片的配樂由範戴克·帕克斯（Van Dyke Parks）擔任，他還以檢察官的身份出現。這部電影劇本由羅伯特·湯恩執導，他爲唐人街創作的劇本獲得了奧斯卡獎。1990年8月10日派拉蒙影業公司發行。這部電影並沒有獲得票房成功，第三部關於吉特斯的電影的計劃也被放棄了，吉特斯即將壽終正寢。\\n哈維·凱特爾5是一部1996年的美國喜劇驚悚片，由吉姆·威爾遜執導，由哈維·凱特爾、卡梅隆·迪亞茲、克雷格·謝弗和比利·贊恩主演。它被MPAA評爲PG-13級。這部電影是由挪威電影導演尼爾斯·高普翻拍的。\\n哈維·凱特爾6是一部1980年的英國科幻電影，由斯坦利·多恩（Stanley Donen）製作和執導，由法拉·福塞特（Farrah Fawcett）、柯克·道格拉斯（Kirk Douglas）和哈維·凱特爾主演。這部劇本是馬丁·埃米斯根據約翰·巴里的一個故事寫的。雖然這部電影是英國的一部作品（由盧·格雷德的ITC娛樂公司製作，在謝伯頓電影公司拍攝），但它有一位美國演員和導演。哈維·凱特爾的傳記作者稱這部電影是“他職業生涯的最低點”。\\n哈維·凱特爾7原名《我先打電話》，是一部1967年由馬丁·斯科塞斯編導、哈維·凱特爾和吉娜·白求恩主演的美國獨立戲劇電影。這是斯科塞斯的故事片導演處女作和凱特爾的演員處女作。在探索天主教內疚的主題時，與他後來的電影《卑鄙的街道》相似，故事講述的是意大利裔美國人J.R.（凱特爾飾）努力接受他獨立自由的女友（白求恩飾）隱藏的祕密。這部電影是1967年芝加哥電影節的提名影片。\\n哈維·凱特爾8是一部1980年的英國心理戲劇電影，由尼古拉斯·羅格執導，由藝術加芬克爾、特雷莎·羅素、哈維·凱特爾和登霍姆·埃利奧特主演。劇情聚焦於一位居住在維也納的美國女性和一位心理學教授，主要通過非線性倒敘來講述，並考察了一名偵探在調查她明顯的自殺企圖時發現的他們之間動盪關係的細節，被自己的發行商Rank Organization冠以“一部由病人爲病人制作的病態電影”的稱號，並在美國獲得X級評級。這部電影在被髮行方擱置之前，也曾以《哈維·凱特爾8：一種肉慾的癡迷》爲題放映。直到2005年標準集發行DVD版，它纔在美國家庭視頻上發行。\\n《哈維·凱特爾9》是一部1989年的犯罪喜劇，由帕特·奧康納執導，約翰·帕特里克·尚利編劇。該片由凱文·克林飾演尼克·斯塔基，他是紐約警局的一名聰明的前警探，在連環殺手恐嚇紐約市時，他被警察局長的弟弟（哈維·凱特爾）引誘回去服役。尼克與市長的女兒瑪麗·伊麗莎白·馬斯特蘭託尼（Mary Elizabeth Mastrantonio）發生了關係，他的鄰居、藝術家艾德（Alan Rickman）協助他進行了調查。\\n儲液犬0是1997年由哈維·凱特爾、斯蒂芬多夫和蒂莫西哈頓主演的一部新黑色犯罪片。它是由約翰·歐文導演，埃夫岑·科拉爾和肯·索拉茲製作，索拉茲編劇。\\n儲液犬1是一部2003年加拿大-英國喜劇搶劫驚悚片，由布拉德·米爾曼執導，傑拉德·德帕迪約、哈維·凱特爾和法國歌手約翰尼·哈利戴和雷諾主演。《水落石出》電影講述的是一羣法國小偷在搶劫了芝加哥一個黑手黨老闆的家後，得到了比他們所能買到的更多的東西。\\n儲液犬2是一部1978年的美國犯罪戲劇電影，由保羅施拉德執導，在他的導演處女作。這是由施拉德和他的兄弟倫納德，主演理查德普賴爾，哈維·凱特爾和亞菲特科託。這部電影既是對工會做法的批判，也是對工人階級鐵鏽地帶飛地生活的審視。儘管普賴爾提供的喜劇元素很少，但大部分都是戲劇化的。施雷德當時是一位著名的編劇，因爲他在《出租車司機》（1976年）一書中的表現，他回憶說，由於他和演員之間（以及明星之間）的藝術和個人緊張關係，這次拍攝非常困難；他還說，這是他唯一一次在片場精神崩潰，這讓他重新考慮自己的職業生涯。這部電影是在底特律和密歇根州卡拉馬祖拍攝的。\\n儲液犬3是一部1982年的美國新黑色戲劇電影，由託尼·理查森執導，傑克·尼科爾森、哈維·凱特爾、瓦萊麗·佩林、埃爾皮迪亞·卡里略和沃倫·奧茨主演。\\n儲液犬5是一部1998年美國浪漫主義神祕戲劇電影，由作家保羅·奧斯特執導，由哈維·凱特爾、米拉·索維諾和威廉·達福主演。這部電影講述的是一位爵士薩克斯管演奏者被拍攝後的生活發生了變化。在發現了一塊神祕的石頭後，他遇到了一位有抱負的美麗女演員並愛上了她，但他們的幸福卻被一系列奇怪的、夢幻般的事件打斷了。這部電影在1998年戛納電影節的聯合國某些方面放映。\\n儲液犬6是一部由哈維·凱特爾和Joshua Jackson主演的電視電影。它於2005年在美國廣播公司首播。這部電影由布拉德·米爾曼執導，並以“影子舞者”爲題拍攝。\\n儲液犬7是一部2009年的美國動作片，由弗朗克·卡夫恩執導，小古巴·古丁、米格爾·費雷爾和哈維·凱特爾主演。\\n儲液犬8，儲液犬9是一部1976年的西方修正主義電影，由羅伯特·奧爾特曼執導，改編自亞瑟·科皮特的話劇《印第安人》。該片由保羅·紐曼飾演威廉·科迪（William F.Cody），別名布法羅·比爾（Buffalo Bill），傑拉爾丁·卓別林（Geraldine Chaplin），威爾·桑普森（Will Sampson），喬爾·格雷（Joel Grey），哈維·凱特爾和伯特·蘭開斯特（Burt Lancaster）飾演比爾的傳記作家內德·邦特琳（Ned Buntline）。這是電影攝影師保羅羅曼在帕納維翁拍攝的，就像他早期的電影《混搭》一樣，奧特曼歪曲了美國歷史上英雄主義的神話，在這種情況下，與嗜血的野蠻人作戰的高貴白人贏得了西方。然而，這部電影在上映時收視率很低，因爲該國正在慶祝它的二百週年紀念日。\\n紅龍0（德語名稱紅龍0-Der Fall Furtwängler）是2001年由伊斯特萬·薩博執導、哈維·凱特爾和斯特拉恩·斯卡爾斯格德主演的德法奧英傳記戲劇電影，故事發生在二戰後德國進行的變性調查期間，這是基於一名美國陸軍調查員和被控爲納粹政權服務的音樂指揮威廉·富特溫格勒之間的真實審訊。這部電影是根據1995年羅納德·哈伍德（Ronald Harwood）的同名劇本改編的，影片是在德國拍攝的，對白是德語和英語，不過在美國和英國發行的版本中，對白只是英語。\\n紅龍1（也被稱爲蛇眼）是1993年由阿貝爾·費拉拉執導，尼古拉斯·聖約翰執筆，麥當娜、哈維·凱特爾和詹姆斯·魯索主演的美籍意大利戲劇電影。\\n紅龍2是一部2010年的電影，由喬納森·索博爾執導，由哈維·凱特爾、斯科特·卡恩和J.K.西蒙斯主演。\\n紅龍3是1994年安東尼·德拉贊導演的一部戲劇電影，改編自希拉·巴蘭坦1982年的同名小說。這部電影由哈維·凱特爾和Fairuza Balk主演，講述了1962年俄勒岡州波特蘭市的一個寡婦騙子Ray Weiler（Keitel）試圖撫養兩個女兒的故事。他的大女兒索尼婭（Balk）是一個有天賦的學生和作家，儘管父親無法改變他自毀的行爲，但她仍試圖開始自己的生活。她的日記條目構成了記錄這個家庭故事的回顧性場景的基礎。\\n紅龍4是1983年由詹姆斯·託巴克創作、製作和執導的美國戲劇電影。它由納斯塔斯卡·金斯基、魯道夫·努雷耶夫、哈維·凱特爾、伊恩·麥克沙恩和比比·安德森主演。',\n",
       " 'QUESTIONS': [{'QID': '701_1',\n",
       "   'QTYPE': 'atm',\n",
       "   'ATYPE_': 'Object',\n",
       "   'AMODE_': ['Multi-Spans-Extraction'],\n",
       "   'SHINT_': ['Q72962',\n",
       "    'Q9125658',\n",
       "    'Q558102',\n",
       "    'Q576367',\n",
       "    'Q841335',\n",
       "    'Q117315',\n",
       "    'Q646031',\n",
       "    'Q1217573',\n",
       "    'Q798734',\n",
       "    'Q143835',\n",
       "    'Q241085',\n",
       "    'Q2268296',\n",
       "    'Q961829',\n",
       "    'Q1783958',\n",
       "    'Q657075',\n",
       "    'Q2575227',\n",
       "    'Q880665',\n",
       "    'Q492853',\n",
       "    'Q496113',\n",
       "    'Q780384',\n",
       "    'Q885666',\n",
       "    'Q1545841',\n",
       "    'Q1877215',\n",
       "    'Q71954',\n",
       "    'Q4021078',\n",
       "    'Q1001943',\n",
       "    'Q565088',\n",
       "    'Q2337429',\n",
       "    'Q300326',\n",
       "    'Q6002444',\n",
       "    'Q1498130',\n",
       "    'Q191132'],\n",
       "   'QTEXT': 'what films does Harvey Keitel appear in?',\n",
       "   'QTEXT_CN': '哈维·凯特尔出演什么电影？',\n",
       "   'QTEXT_TW': '哈維·凱特爾出演什麼電影？',\n",
       "   'ANSWER': [{'ATEXT': \"Reservoir Dogs, Red Dragon, Cop Land, U-571, Mean Streets, The Piano, The Last Temptation of Christ, Rising Sun, Bad Lieutenant, Smoke, Bugsy, Clockers, The Two Jakes, Head Above Water, Saturn 3, Who's That Knocking at My Door, Bad Timing, The January Man, City of Industry, Crime Spree, Blue Collar, The Border, Wise Guys, Lulu on the Bridge, Shadows in the Sun, Wrong Turn at Tahoe, Buffalo Bill and the Indians, or Sitting Bull's History Lesson, Taking Sides, Dangerous Game, A Beginner's Guide to Endings, Imaginary Crimes, Exposed\",\n",
       "     'ATEXT_CN': '储液犬、 红龙、 警察区、 U-571型、 卑鄙的街道、 钢琴、 基督最后的诱惑、 朝阳、 坏中尉、 冒烟、 臭虫、 打卡器、 血洗唐人街、 水头高于水面、 土星三号、 是谁在敲我的门、 时机不对、 一月人、 工业城市、 黑道追杀令、 蓝领阶层、 边界、 聪明人、 露露在桥上、 阳光下的影子、 在塔霍转错弯、 布法罗比尔和印第安人、 或者坐牛的历史课、 偏袒、 危险的游戏、 初学者末日指南、 假想犯罪、 暴露的',\n",
       "     'ATEXT_TW': '儲液犬、 紅龍、 警察區、 U-571型、 卑鄙的街道、 鋼琴、 基督最後的誘惑、 朝陽、 壞中尉、 冒煙、 臭蟲、 打卡器、 血洗唐人街、 水頭高於水面、 土星三號、 是誰在敲我的門、 時機不對、 一月人、 工業城市、 黑道追殺令、 藍領階層、 邊界、 聰明人、 露露在橋上、 陽光下的影子、 在塔霍轉錯彎、 布法羅比爾和印第安人、 或者坐牛的歷史課、 偏袒、 危險的遊戲、 初學者末日指南、 假想犯罪、 暴露的'}]},\n",
       "  {'QID': '701_1',\n",
       "   'QTYPE': 'atm',\n",
       "   'ATYPE_': 'Object',\n",
       "   'AMODE_': ['Multi-Spans-Extraction'],\n",
       "   'SHINT_': ['Q72962',\n",
       "    'Q9125658',\n",
       "    'Q558102',\n",
       "    'Q576367',\n",
       "    'Q841335',\n",
       "    'Q117315',\n",
       "    'Q646031',\n",
       "    'Q1217573',\n",
       "    'Q798734',\n",
       "    'Q143835',\n",
       "    'Q241085',\n",
       "    'Q2268296',\n",
       "    'Q961829',\n",
       "    'Q1783958',\n",
       "    'Q657075',\n",
       "    'Q2575227',\n",
       "    'Q880665',\n",
       "    'Q492853',\n",
       "    'Q496113',\n",
       "    'Q780384',\n",
       "    'Q885666',\n",
       "    'Q1545841',\n",
       "    'Q1877215',\n",
       "    'Q71954',\n",
       "    'Q4021078',\n",
       "    'Q1001943',\n",
       "    'Q565088',\n",
       "    'Q2337429',\n",
       "    'Q300326',\n",
       "    'Q6002444',\n",
       "    'Q1498130',\n",
       "    'Q191132'],\n",
       "   'QTEXT': 'what films does Harvey Keitel appear in?',\n",
       "   'QTEXT_CN': '哈维·凯特尔是哪几部电影的主角?',\n",
       "   'QTEXT_TW': '哈維·凱特爾是哪幾部電影的主角?',\n",
       "   'ANSWER': [{'ATEXT': \"Reservoir Dogs, Red Dragon, Cop Land, U-571, Mean Streets, The Piano, The Last Temptation of Christ, Rising Sun, Bad Lieutenant, Smoke, Bugsy, Clockers, The Two Jakes, Head Above Water, Saturn 3, Who's That Knocking at My Door, Bad Timing, The January Man, City of Industry, Crime Spree, Blue Collar, The Border, Wise Guys, Lulu on the Bridge, Shadows in the Sun, Wrong Turn at Tahoe, Buffalo Bill and the Indians, or Sitting Bull's History Lesson, Taking Sides, Dangerous Game, A Beginner's Guide to Endings, Imaginary Crimes, Exposed\",\n",
       "     'ATEXT_CN': '储液犬、 红龙、 警察区、 U-571型、 卑鄙的街道、 钢琴、 基督最后的诱惑、 朝阳、 坏中尉、 冒烟、 臭虫、 打卡器、 血洗唐人街、 水头高于水面、 土星三号、 是谁在敲我的门、 时机不对、 一月人、 工业城市、 黑道追杀令、 蓝领阶层、 边界、 聪明人、 露露在桥上、 阳光下的影子、 在塔霍转错弯、 布法罗比尔和印第安人、 或者坐牛的历史课、 偏袒、 危险的游戏、 初学者末日指南、 假想犯罪、 暴露的',\n",
       "     'ATEXT_TW': '儲液犬、 紅龍、 警察區、 U-571型、 卑鄙的街道、 鋼琴、 基督最後的誘惑、 朝陽、 壞中尉、 冒煙、 臭蟲、 打卡器、 血洗唐人街、 水頭高於水面、 土星三號、 是誰在敲我的門、 時機不對、 一月人、 工業城市、 黑道追殺令、 藍領階層、 邊界、 聰明人、 露露在橋上、 陽光下的影子、 在塔霍轉錯彎、 布法羅比爾和印第安人、 或者坐牛的歷史課、 偏袒、 危險的遊戲、 初學者末日指南、 假想犯罪、 暴露的'}]},\n",
       "  {'QID': '701_1',\n",
       "   'QTYPE': 'atm',\n",
       "   'ATYPE_': 'Object',\n",
       "   'AMODE_': ['Multi-Spans-Extraction'],\n",
       "   'SHINT_': ['Q72962',\n",
       "    'Q9125658',\n",
       "    'Q558102',\n",
       "    'Q576367',\n",
       "    'Q841335',\n",
       "    'Q117315',\n",
       "    'Q646031',\n",
       "    'Q1217573',\n",
       "    'Q798734',\n",
       "    'Q143835',\n",
       "    'Q241085',\n",
       "    'Q2268296',\n",
       "    'Q961829',\n",
       "    'Q1783958',\n",
       "    'Q657075',\n",
       "    'Q2575227',\n",
       "    'Q880665',\n",
       "    'Q492853',\n",
       "    'Q496113',\n",
       "    'Q780384',\n",
       "    'Q885666',\n",
       "    'Q1545841',\n",
       "    'Q1877215',\n",
       "    'Q71954',\n",
       "    'Q4021078',\n",
       "    'Q1001943',\n",
       "    'Q565088',\n",
       "    'Q2337429',\n",
       "    'Q300326',\n",
       "    'Q6002444',\n",
       "    'Q1498130',\n",
       "    'Q191132'],\n",
       "   'QTEXT': 'what films does Harvey Keitel appear in?',\n",
       "   'QTEXT_CN': '哪些电影的主演演员是哈维·凯特尔?',\n",
       "   'QTEXT_TW': '哪些電影的主演演員是哈維·凱特爾?',\n",
       "   'ANSWER': [{'ATEXT': \"Reservoir Dogs, Red Dragon, Cop Land, U-571, Mean Streets, The Piano, The Last Temptation of Christ, Rising Sun, Bad Lieutenant, Smoke, Bugsy, Clockers, The Two Jakes, Head Above Water, Saturn 3, Who's That Knocking at My Door, Bad Timing, The January Man, City of Industry, Crime Spree, Blue Collar, The Border, Wise Guys, Lulu on the Bridge, Shadows in the Sun, Wrong Turn at Tahoe, Buffalo Bill and the Indians, or Sitting Bull's History Lesson, Taking Sides, Dangerous Game, A Beginner's Guide to Endings, Imaginary Crimes, Exposed\",\n",
       "     'ATEXT_CN': '储液犬、 红龙、 警察区、 U-571型、 卑鄙的街道、 钢琴、 基督最后的诱惑、 朝阳、 坏中尉、 冒烟、 臭虫、 打卡器、 血洗唐人街、 水头高于水面、 土星三号、 是谁在敲我的门、 时机不对、 一月人、 工业城市、 黑道追杀令、 蓝领阶层、 边界、 聪明人、 露露在桥上、 阳光下的影子、 在塔霍转错弯、 布法罗比尔和印第安人、 或者坐牛的历史课、 偏袒、 危险的游戏、 初学者末日指南、 假想犯罪、 暴露的',\n",
       "     'ATEXT_TW': '儲液犬、 紅龍、 警察區、 U-571型、 卑鄙的街道、 鋼琴、 基督最後的誘惑、 朝陽、 壞中尉、 冒煙、 臭蟲、 打卡器、 血洗唐人街、 水頭高於水面、 土星三號、 是誰在敲我的門、 時機不對、 一月人、 工業城市、 黑道追殺令、 藍領階層、 邊界、 聰明人、 露露在橋上、 陽光下的影子、 在塔霍轉錯彎、 布法羅比爾和印第安人、 或者坐牛的歷史課、 偏袒、 危險的遊戲、 初學者末日指南、 假想犯罪、 暴露的'}]},\n",
       "  {'QID': '701_1',\n",
       "   'QTYPE': 'atm',\n",
       "   'ATYPE_': 'Object',\n",
       "   'AMODE_': ['Multi-Spans-Extraction'],\n",
       "   'SHINT_': ['Q72962',\n",
       "    'Q9125658',\n",
       "    'Q558102',\n",
       "    'Q576367',\n",
       "    'Q841335',\n",
       "    'Q117315',\n",
       "    'Q646031',\n",
       "    'Q1217573',\n",
       "    'Q798734',\n",
       "    'Q143835',\n",
       "    'Q241085',\n",
       "    'Q2268296',\n",
       "    'Q961829',\n",
       "    'Q1783958',\n",
       "    'Q657075',\n",
       "    'Q2575227',\n",
       "    'Q880665',\n",
       "    'Q492853',\n",
       "    'Q496113',\n",
       "    'Q780384',\n",
       "    'Q885666',\n",
       "    'Q1545841',\n",
       "    'Q1877215',\n",
       "    'Q71954',\n",
       "    'Q4021078',\n",
       "    'Q1001943',\n",
       "    'Q565088',\n",
       "    'Q2337429',\n",
       "    'Q300326',\n",
       "    'Q6002444',\n",
       "    'Q1498130',\n",
       "    'Q191132'],\n",
       "   'QTEXT': 'what films does Harvey Keitel appear in?',\n",
       "   'QTEXT_CN': '主角是哈维·凯特尔的电影有哪些??',\n",
       "   'QTEXT_TW': '主角是哈維·凱特爾的電影有哪些??',\n",
       "   'ANSWER': [{'ATEXT': \"Reservoir Dogs, Red Dragon, Cop Land, U-571, Mean Streets, The Piano, The Last Temptation of Christ, Rising Sun, Bad Lieutenant, Smoke, Bugsy, Clockers, The Two Jakes, Head Above Water, Saturn 3, Who's That Knocking at My Door, Bad Timing, The January Man, City of Industry, Crime Spree, Blue Collar, The Border, Wise Guys, Lulu on the Bridge, Shadows in the Sun, Wrong Turn at Tahoe, Buffalo Bill and the Indians, or Sitting Bull's History Lesson, Taking Sides, Dangerous Game, A Beginner's Guide to Endings, Imaginary Crimes, Exposed\",\n",
       "     'ATEXT_CN': '储液犬、 红龙、 警察区、 U-571型、 卑鄙的街道、 钢琴、 基督最后的诱惑、 朝阳、 坏中尉、 冒烟、 臭虫、 打卡器、 血洗唐人街、 水头高于水面、 土星三号、 是谁在敲我的门、 时机不对、 一月人、 工业城市、 黑道追杀令、 蓝领阶层、 边界、 聪明人、 露露在桥上、 阳光下的影子、 在塔霍转错弯、 布法罗比尔和印第安人、 或者坐牛的历史课、 偏袒、 危险的游戏、 初学者末日指南、 假想犯罪、 暴露的',\n",
       "     'ATEXT_TW': '儲液犬、 紅龍、 警察區、 U-571型、 卑鄙的街道、 鋼琴、 基督最後的誘惑、 朝陽、 壞中尉、 冒煙、 臭蟲、 打卡器、 血洗唐人街、 水頭高於水面、 土星三號、 是誰在敲我的門、 時機不對、 一月人、 工業城市、 黑道追殺令、 藍領階層、 邊界、 聰明人、 露露在橋上、 陽光下的影子、 在塔霍轉錯彎、 布法羅比爾和印第安人、 或者坐牛的歷史課、 偏袒、 危險的遊戲、 初學者末日指南、 假想犯罪、 暴露的'}]},\n",
       "  {'QID': '701_1',\n",
       "   'QTYPE': 'atm',\n",
       "   'ATYPE_': 'Object',\n",
       "   'AMODE_': ['Multi-Spans-Extraction'],\n",
       "   'SHINT_': ['Q72962',\n",
       "    'Q9125658',\n",
       "    'Q558102',\n",
       "    'Q576367',\n",
       "    'Q841335',\n",
       "    'Q117315',\n",
       "    'Q646031',\n",
       "    'Q1217573',\n",
       "    'Q798734',\n",
       "    'Q143835',\n",
       "    'Q241085',\n",
       "    'Q2268296',\n",
       "    'Q961829',\n",
       "    'Q1783958',\n",
       "    'Q657075',\n",
       "    'Q2575227',\n",
       "    'Q880665',\n",
       "    'Q492853',\n",
       "    'Q496113',\n",
       "    'Q780384',\n",
       "    'Q885666',\n",
       "    'Q1545841',\n",
       "    'Q1877215',\n",
       "    'Q71954',\n",
       "    'Q4021078',\n",
       "    'Q1001943',\n",
       "    'Q565088',\n",
       "    'Q2337429',\n",
       "    'Q300326',\n",
       "    'Q6002444',\n",
       "    'Q1498130',\n",
       "    'Q191132'],\n",
       "   'QTEXT': 'what films does Harvey Keitel appear in?',\n",
       "   'QTEXT_CN': '请说出哈维·凯特尔演的电影?',\n",
       "   'QTEXT_TW': '請說出哈維·凱特爾演的電影?',\n",
       "   'ANSWER': [{'ATEXT': \"Reservoir Dogs, Red Dragon, Cop Land, U-571, Mean Streets, The Piano, The Last Temptation of Christ, Rising Sun, Bad Lieutenant, Smoke, Bugsy, Clockers, The Two Jakes, Head Above Water, Saturn 3, Who's That Knocking at My Door, Bad Timing, The January Man, City of Industry, Crime Spree, Blue Collar, The Border, Wise Guys, Lulu on the Bridge, Shadows in the Sun, Wrong Turn at Tahoe, Buffalo Bill and the Indians, or Sitting Bull's History Lesson, Taking Sides, Dangerous Game, A Beginner's Guide to Endings, Imaginary Crimes, Exposed\",\n",
       "     'ATEXT_CN': '储液犬、 红龙、 警察区、 U-571型、 卑鄙的街道、 钢琴、 基督最后的诱惑、 朝阳、 坏中尉、 冒烟、 臭虫、 打卡器、 血洗唐人街、 水头高于水面、 土星三号、 是谁在敲我的门、 时机不对、 一月人、 工业城市、 黑道追杀令、 蓝领阶层、 边界、 聪明人、 露露在桥上、 阳光下的影子、 在塔霍转错弯、 布法罗比尔和印第安人、 或者坐牛的历史课、 偏袒、 危险的游戏、 初学者末日指南、 假想犯罪、 暴露的',\n",
       "     'ATEXT_TW': '儲液犬、 紅龍、 警察區、 U-571型、 卑鄙的街道、 鋼琴、 基督最後的誘惑、 朝陽、 壞中尉、 冒煙、 臭蟲、 打卡器、 血洗唐人街、 水頭高於水面、 土星三號、 是誰在敲我的門、 時機不對、 一月人、 工業城市、 黑道追殺令、 藍領階層、 邊界、 聰明人、 露露在橋上、 陽光下的影子、 在塔霍轉錯彎、 布法羅比爾和印第安人、 或者坐牛的歷史課、 偏袒、 危險的遊戲、 初學者末日指南、 假想犯罪、 暴露的'}]}]}"
      ]
     },
     "execution_count": 87,
     "metadata": {},
     "output_type": "execute_result"
    }
   ],
   "source": [
    "dev_data[large_sp_data[6]]"
   ]
  },
  {
   "cell_type": "code",
   "execution_count": 76,
   "metadata": {},
   "outputs": [
    {
     "ename": "IndexError",
     "evalue": "list index out of range",
     "output_type": "error",
     "traceback": [
      "\u001b[0;31m---------------------------------------------------------------------------\u001b[0m",
      "\u001b[0;31mIndexError\u001b[0m                                Traceback (most recent call last)",
      "\u001b[0;32m<ipython-input-76-28ec0eb0c6c9>\u001b[0m in \u001b[0;36m<module>\u001b[0;34m\u001b[0m\n\u001b[0;32m----> 1\u001b[0;31m \u001b[0mlarge_sp_data\u001b[0m\u001b[0;34m[\u001b[0m\u001b[0;36m0\u001b[0m\u001b[0;34m]\u001b[0m\u001b[0;34m\u001b[0m\u001b[0;34m\u001b[0m\u001b[0m\n\u001b[0m",
      "\u001b[0;31mIndexError\u001b[0m: list index out of range"
     ]
    }
   ],
   "source": [
    "large_sp_data[0]"
   ]
  },
  {
   "cell_type": "code",
   "execution_count": 73,
   "metadata": {},
   "outputs": [
    {
     "data": {
      "application/vnd.jupyter.widget-view+json": {
       "model_id": "ad602dcbf4034e8a96d23ba96001c01b",
       "version_major": 2,
       "version_minor": 0
      },
      "text/plain": [
       "HBox(children=(IntProgress(value=0, max=2462), HTML(value='')))"
      ]
     },
     "metadata": {},
     "output_type": "display_data"
    },
    {
     "name": "stdout",
     "output_type": "stream",
     "text": [
      "\n",
      "average_gold_sp:1.8286264441591784\n",
      "Valid data:10906\n",
      "Invalid data:0\n",
      "max sp_num:32\n",
      "min sp_num:0\n"
     ]
    }
   ],
   "source": [
    "num_sp_list_dev = inspect_cosqa(dev_data)"
   ]
  },
  {
   "cell_type": "code",
   "execution_count": null,
   "metadata": {},
   "outputs": [],
   "source": []
  }
 ],
 "metadata": {
  "kernelspec": {
   "display_name": "Python 3",
   "language": "python",
   "name": "python3"
  },
  "language_info": {
   "codemirror_mode": {
    "name": "ipython",
    "version": 3
   },
   "file_extension": ".py",
   "mimetype": "text/x-python",
   "name": "python",
   "nbconvert_exporter": "python",
   "pygments_lexer": "ipython3",
   "version": "3.7.7"
  }
 },
 "nbformat": 4,
 "nbformat_minor": 4
}
