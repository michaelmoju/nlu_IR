{
 "cells": [
  {
   "cell_type": "code",
   "execution_count": 1,
   "metadata": {},
   "outputs": [
    {
     "data": {
      "text/plain": [
       "'/work/nlu_IR'"
      ]
     },
     "execution_count": 1,
     "metadata": {},
     "output_type": "execute_result"
    }
   ],
   "source": [
    "import os\n",
    "import sys\n",
    "import json\n",
    "from tqdm import tqdm_notebook as tqdm\n",
    "\n",
    "w_dir = %pwd\n",
    "work_dir = os.path.dirname(w_dir)\n",
    "w_dir"
   ]
  },
  {
   "cell_type": "code",
   "execution_count": 2,
   "metadata": {},
   "outputs": [],
   "source": [
    "sys.path.append(w_dir+'/nlu_IR')"
   ]
  },
  {
   "cell_type": "code",
   "execution_count": 3,
   "metadata": {},
   "outputs": [],
   "source": [
    "from nlu_IR import config\n",
    "from nlu_IR import std"
   ]
  },
  {
   "cell_type": "code",
   "execution_count": 5,
   "metadata": {},
   "outputs": [],
   "source": [
    "data = std.json_load(config.COS_DEV)"
   ]
  },
  {
   "cell_type": "code",
   "execution_count": 6,
   "metadata": {},
   "outputs": [
    {
     "data": {
      "text/plain": [
       "'特穆拉·莫里森演什么电影？'"
      ]
     },
     "execution_count": 6,
     "metadata": {},
     "output_type": "execute_result"
    }
   ],
   "source": [
    "data[0]['QUESTIONS'][0]['QTEXT_CN']"
   ]
  },
  {
   "cell_type": "code",
   "execution_count": 7,
   "metadata": {},
   "outputs": [],
   "source": [
    "from nlu_IR.lucene_search.cosQA_search import CosQASearcher\n",
    "from nlu_IR.evaluation.eval import eval_sp"
   ]
  },
  {
   "cell_type": "code",
   "execution_count": 8,
   "metadata": {},
   "outputs": [],
   "source": [
    "mySearcher = CosQASearcher('zh')"
   ]
  },
  {
   "cell_type": "code",
   "execution_count": 9,
   "metadata": {},
   "outputs": [
    {
     "data": {
      "text/plain": [
       "[('Q2155524',\n",
       "  'River Queen',\n",
       "  '河皇后是2005年由文森特·沃德执导，萨曼莎·莫顿、基弗·萨瑟兰、克里夫·柯蒂斯、特穆拉·莫里森和斯蒂芬·雷亚主演的新西兰-英国战争戏剧电影。这部电影的评价参差不齐，但在新西兰的票房表现良好。',\n",
       "  7.7007856369018555),\n",
       " ('Q1184001',\n",
       "  'What a Girl Wants',\n",
       "  '女孩想要什么可以指：“女孩想要什么”（克里斯蒂娜·阿奎莱拉之歌），1999女孩想要什么（电影），由阿曼达·拜恩斯主演的2003年电影“女孩想要什么”（B2K之歌），2003年“女孩想要什么”，一首4分钟前为穆齐克创作的歌',\n",
       "  7.653810977935791),\n",
       " ('Q529851',\n",
       "  'Temuera Morrison',\n",
       "  '特穆拉·德里克·莫里森（1960年12月26日出生）是新西兰演员，他在新西兰肥皂剧《肖特兰街》（Shortland Street）中扮演的Hone Ropata博士首次获得认可。他在1994年的电影《曾经是勇士》和1999年的续集《伤心的人是什么》中饰演杰克·海克，获得了评论界的好评？。他在《星球大战：第二集克隆人的进攻》（2002年）和《星球大战：第二集克隆人的进攻》和《星球大战：第三集西斯的复仇》（2005年）中扮演了詹戈·费特（Jango Fett），从而在国际上享有盛名。他还因在《莫阿纳》（2016）中饰演片名人物之父的崔局长以及在《阿奎曼》（2018）中饰演亚瑟·柯里的父亲托马斯而闻名。',\n",
       "  7.634599208831787),\n",
       " ('Q3536311',\n",
       "  'Tracker (2011 film)',\n",
       "  '跟踪器是一部2011年英国-新西兰动作惊悚片，由伊恩·夏普执导，雷·温斯顿和特穆拉·莫里森主演。它设定在1903年的新西兰。',\n",
       "  7.125396251678467),\n",
       " ('Q1759154',\n",
       "  'The Beautiful Country',\n",
       "  '美丽的国家是一部以1990年为背景的2004年戏剧电影。这部电影由汉斯·佩特·莫兰执导，达米安·阮、尼克·诺尔特、白玲、周铁金玄、蒂姆·罗斯、安·图、特穆拉·莫里森和约翰·侯赛因主演。剧本由萨比娜·默里（Sabina Murray）根据默里和特伦斯·马利克（Terrence Malick）（化名林加德·杰维）的故事撰写',\n",
       "  6.913693428039551)]"
      ]
     },
     "execution_count": 9,
     "metadata": {},
     "output_type": "execute_result"
    }
   ],
   "source": [
    "mySearcher.search('特穆拉·莫里森演什么电影？', 5)"
   ]
  },
  {
   "cell_type": "code",
   "execution_count": 10,
   "metadata": {},
   "outputs": [],
   "source": [
    "import sys"
   ]
  },
  {
   "cell_type": "code",
   "execution_count": 23,
   "metadata": {},
   "outputs": [],
   "source": [
    "def inspect_cosqa(data):\n",
    "    num_gold_sp = 0\n",
    "    valid_data = []\n",
    "    invalid_data = []\n",
    "    gold_sp_nums = []\n",
    "    for d in tqdm(data):\n",
    "        try:\n",
    "            assert len(d['QUESTIONS']) == 1, 'There are {} questions!'.format(len(d['QUESTIONS']))\n",
    "            gold_sp = d['QUESTIONS'][0]['SHINT_']\n",
    "            num_gold_sp += len(gold_sp)\n",
    "            gold_sp_nums.append(len(gold_sp))\n",
    "            valid_data.append(d)\n",
    "        except Exception as e:\n",
    "            invalid_data.append(d)\n",
    "            continue\n",
    "    print(\"average_gold_sp:{}\".format(num_gold_sp/len(valid_data)))\n",
    "    print(\"Valid data:{}\".format(len(valid_data)))\n",
    "    print(\"Invalid data:{}\".format(len(invalid_data)))\n",
    "    print(\"max sp_num:{}\".format(max(gold_sp_nums)))\n",
    "    print(\"min sp_num:{}\".format(min(gold_sp_nums)))"
   ]
  },
  {
   "cell_type": "code",
   "execution_count": 24,
   "metadata": {},
   "outputs": [
    {
     "name": "stderr",
     "output_type": "stream",
     "text": [
      "/usr/local/lib/python3.6/dist-packages/ipykernel_launcher.py:6: TqdmDeprecationWarning: This function will be removed in tqdm==5.0.0\n",
      "Please use `tqdm.notebook.tqdm` instead of `tqdm.tqdm_notebook`\n",
      "  \n"
     ]
    },
    {
     "data": {
      "application/vnd.jupyter.widget-view+json": {
       "model_id": "2114f2cf78d04e70b67acd62d962701a",
       "version_major": 2,
       "version_minor": 0
      },
      "text/plain": [
       "HBox(children=(FloatProgress(value=0.0, max=6710.0), HTML(value='')))"
      ]
     },
     "metadata": {},
     "output_type": "display_data"
    },
    {
     "name": "stdout",
     "output_type": "stream",
     "text": [
      "\n",
      "average_gold_sp:1.7692932575142162\n",
      "Valid data:2462\n",
      "Invalid data:4248\n",
      "max sp_num:32\n",
      "min sp_num:0\n"
     ]
    }
   ],
   "source": [
    "inspect_cosqa(data)"
   ]
  },
  {
   "cell_type": "code",
   "execution_count": 13,
   "metadata": {},
   "outputs": [],
   "source": [
    "def search_batch(q_texts, searcher, top_n):\n",
    "    predictions = []\n",
    "    \n",
    "    for q_text in tqdm(q_texts):\n",
    "        prediction = searcher.search(q_text, top_n)\n",
    "        predictions.append([p[0] for p in prediction])\n",
    "    return predictions"
   ]
  },
  {
   "cell_type": "code",
   "execution_count": 19,
   "metadata": {},
   "outputs": [],
   "source": [
    "def eval_cosqa(data, top_n):\n",
    "    searcher_cn = CosQASearcher('zh')\n",
    "    searcher_en = CosQASearcher('en')\n",
    "    \n",
    "    cn_q_texts = []\n",
    "    en_q_texts = []\n",
    "    golds = []\n",
    "    for d in tqdm(data):\n",
    "        try:\n",
    "            assert len(d['QUESTIONS']) == 1, 'There are {} questions!'.format(len(d['QUESTIONS']))\n",
    "            cn_q_texts.append(d['QUESTIONS'][0]['QTEXT_CN'])\n",
    "            en_q_texts.append(d['QUESTIONS'][0]['QTEXT'])\n",
    "            golds.append(d['QUESTIONS'][0]['SHINT_'])\n",
    "        except Exception as inst:\n",
    "#             print(type(inst))    # the exception instance\n",
    "#             print(inst.args)     # arguments stored in .args\n",
    "            continue\n",
    "            \n",
    "    #search\n",
    "    cn_predictions = search_batch(cn_q_texts, searcher_cn, top_n)\n",
    "    en_predictions = search_batch(en_q_texts, searcher_en, top_n)\n",
    "    \n",
    "    print(\"cn: \".format(eval_sp(golds, cn_predictions)))\n",
    "    print(\"en: \".format(eval_sp(golds, en_predictions)))"
   ]
  },
  {
   "cell_type": "code",
   "execution_count": 26,
   "metadata": {},
   "outputs": [
    {
     "name": "stderr",
     "output_type": "stream",
     "text": [
      "/usr/local/lib/python3.6/dist-packages/ipykernel_launcher.py:8: TqdmDeprecationWarning: This function will be removed in tqdm==5.0.0\n",
      "Please use `tqdm.notebook.tqdm` instead of `tqdm.tqdm_notebook`\n",
      "  \n"
     ]
    },
    {
     "data": {
      "application/vnd.jupyter.widget-view+json": {
       "model_id": "a74c6271c8a941e3b1b9c4984fcf08a8",
       "version_major": 2,
       "version_minor": 0
      },
      "text/plain": [
       "HBox(children=(FloatProgress(value=0.0, max=6710.0), HTML(value='')))"
      ]
     },
     "metadata": {},
     "output_type": "display_data"
    },
    {
     "name": "stdout",
     "output_type": "stream",
     "text": [
      "\n"
     ]
    },
    {
     "name": "stderr",
     "output_type": "stream",
     "text": [
      "/usr/local/lib/python3.6/dist-packages/ipykernel_launcher.py:4: TqdmDeprecationWarning: This function will be removed in tqdm==5.0.0\n",
      "Please use `tqdm.notebook.tqdm` instead of `tqdm.tqdm_notebook`\n",
      "  after removing the cwd from sys.path.\n"
     ]
    },
    {
     "data": {
      "application/vnd.jupyter.widget-view+json": {
       "model_id": "273a26f0cfed487aab1ecccf6848fd34",
       "version_major": 2,
       "version_minor": 0
      },
      "text/plain": [
       "HBox(children=(FloatProgress(value=0.0, max=2462.0), HTML(value='')))"
      ]
     },
     "metadata": {},
     "output_type": "display_data"
    },
    {
     "name": "stdout",
     "output_type": "stream",
     "text": [
      "\n"
     ]
    },
    {
     "data": {
      "application/vnd.jupyter.widget-view+json": {
       "model_id": "1ab8095717fb488797ddc6fffe424dd6",
       "version_major": 2,
       "version_minor": 0
      },
      "text/plain": [
       "HBox(children=(FloatProgress(value=0.0, max=2462.0), HTML(value='')))"
      ]
     },
     "metadata": {},
     "output_type": "display_data"
    },
    {
     "name": "stdout",
     "output_type": "stream",
     "text": [
      "\n",
      "['Q2155524', 'Q1184001', 'Q529851', 'Q3536311', 'Q1759154', 'Q941654', 'Q4379616', 'Q1199446', 'Q2520460', 'Q5243353', 'Q830773', 'Q4954444', 'Q1402501', 'Q16279537', 'Q943047', 'Q156394', 'Q1508611', 'Q59317', 'Q269326', 'Q661422', 'Q885161', 'Q230084', 'Q7136855', 'Q3566235', 'Q1869916', 'Q832363', 'Q193357', 'Q1056903', 'Q65476839', 'Q1130966', 'Q314485', 'Q1546566', 'Q964771', 'Q1547697', 'Q310637', 'Q1167668', 'Q317026', 'Q234137', 'Q1631702', 'Q4778174', 'Q3986749', 'Q2833067', 'Q1306660', 'Q732397', 'Q7991741', 'Q745041', 'Q643035', 'Q1989718', 'Q454200', 'Q937087']\n",
      "{'sp_em': 0.0, 'sp_prec': 0.026, 'sp_recall': 0.691, 'sp_f1': 0.048}\n",
      "cn: \n",
      "{'sp_em': 0.0, 'sp_prec': 0.029, 'sp_recall': 0.758, 'sp_f1': 0.054}\n",
      "en: \n"
     ]
    }
   ],
   "source": [
    "eval_cosqa(data, 50)"
   ]
  },
  {
   "cell_type": "code",
   "execution_count": null,
   "metadata": {},
   "outputs": [],
   "source": []
  },
  {
   "cell_type": "code",
   "execution_count": null,
   "metadata": {},
   "outputs": [],
   "source": []
  }
 ],
 "metadata": {
  "kernelspec": {
   "display_name": "Python 3",
   "language": "python",
   "name": "python3"
  },
  "language_info": {
   "codemirror_mode": {
    "name": "ipython",
    "version": 3
   },
   "file_extension": ".py",
   "mimetype": "text/x-python",
   "name": "python",
   "nbconvert_exporter": "python",
   "pygments_lexer": "ipython3",
   "version": "3.6.8"
  }
 },
 "nbformat": 4,
 "nbformat_minor": 4
}
