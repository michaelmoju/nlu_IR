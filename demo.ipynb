{
 "cells": [
  {
   "cell_type": "code",
   "execution_count": 1,
   "metadata": {},
   "outputs": [
    {
     "data": {
      "text/plain": [
       "'/work/nlu_IR'"
      ]
     },
     "execution_count": 1,
     "metadata": {},
     "output_type": "execute_result"
    }
   ],
   "source": [
    "import os\n",
    "import sys\n",
    "import json\n",
    "from tqdm import tqdm_notebook as tqdm\n",
    "\n",
    "w_dir = %pwd\n",
    "work_dir = os.path.dirname(w_dir)\n",
    "w_dir"
   ]
  },
  {
   "cell_type": "code",
   "execution_count": 2,
   "metadata": {},
   "outputs": [],
   "source": [
    "sys.path.append(w_dir+'/nlu_IR')"
   ]
  },
  {
   "cell_type": "code",
   "execution_count": 3,
   "metadata": {},
   "outputs": [],
   "source": [
    "from nlu_IR import config\n",
    "from nlu_IR import std"
   ]
  },
  {
   "cell_type": "code",
   "execution_count": 4,
   "metadata": {},
   "outputs": [
    {
     "data": {
      "text/plain": [
       "PosixPath('/work/nlu_IR/data/cosQA/movieqa_1.0/movieqa_dev.json')"
      ]
     },
     "execution_count": 4,
     "metadata": {},
     "output_type": "execute_result"
    }
   ],
   "source": [
    "config.COS_DEV"
   ]
  },
  {
   "cell_type": "code",
   "execution_count": 5,
   "metadata": {},
   "outputs": [],
   "source": [
    "data = std.json_load(config.COS_DEV)"
   ]
  },
  {
   "cell_type": "code",
   "execution_count": 6,
   "metadata": {},
   "outputs": [
    {
     "data": {
      "text/plain": [
       "{'title': {'en': 'Alice Adams (1935 film)',\n",
       "  'zh': None,\n",
       "  'cn': None,\n",
       "  'tw': None},\n",
       " 'ref': {'en': {'wikibase': 'Q1619523',\n",
       "   'pageid': 7301880,\n",
       "   'url': 'https://en.wikipedia.org/wiki/Alice_Adams_(1935_film)',\n",
       "   'wikidata_url': 'https://www.wikidata.org/wiki/Q1619523'},\n",
       "  'zh': {'wikibase': None, 'pageid': None, 'url': None, 'wikidata_url': None}},\n",
       " 'infobox': {'en': [{'name': 'Alice Adams'},\n",
       "   {'image': 'Alice-Adams-Poster-1935.jpg'},\n",
       "   {'caption': 'Theatrical release poster'},\n",
       "   {'director': '[[George Stevens]]'},\n",
       "   {'producer': '[[Pandro S. Berman]]'},\n",
       "   {'based on': \"{{based on|''[[Alice Adams (novel)|Alice Adams]]''<br>1921 novel|[[Booth Tarkington]]}}\"},\n",
       "   {'screenplay': '[[Dorothy Yost]]<br>[[Mortimer Offner]]<br>[[Jane Murfin]]'},\n",
       "   {'starring': '[[Katharine Hepburn]]<br>[[Fred MacMurray]]<br>[[Fred Stone]]<br>[[Evelyn Venable]]'},\n",
       "   {'music': '[[Max Steiner]]<br>[[Roy Webb]]'},\n",
       "   {'cinematography': '[[Robert De Grasse]]'},\n",
       "   {'editing': '[[Jane Loring]]'},\n",
       "   {'studio': '[[RKO Radio Pictures]]'},\n",
       "   {'distributor': 'RKO Radio Pictures'},\n",
       "   {'released': '{{Film date|1935|8|15|ref1|=|ref| name=\"Brown124\"|{{cite book |title=Movie Time: A Chronology of Hollywood and the Movie Industry from Its Beginnings to the Present |last=Brown |first=Gene |authorlink= |authors= |year=1995 |publisher=Macmillan |location=New York |isbn=0-02-860429-6 |page=[https://archive.org/details/movietimechronol00brow/page/124 124] |pages= |url=https://archive.org/details/movietimechronol00brow/page/124 |accessdate= |url-access=registration }} In New York, the film premiered at [[Radio City Music Hall]].|</ref>}}'},\n",
       "   {'runtime': '99 minutes'},\n",
       "   {'country': 'United States'},\n",
       "   {'language': 'English'},\n",
       "   {'budget': '$342,000'},\n",
       "   {'gross': '$770,000'}],\n",
       "  'cn': [],\n",
       "  'tw': []},\n",
       " 'summary': {'en': \"Alice Adams is a 1935 romantic drama film directed by George Stevens and starring Katharine Hepburn. It was made by RKO and produced by Pandro S. Berman. The screenplay was by Dorothy Yost, Mortimer Offner, and Jane Murfin. The film was adapted from the novel Alice Adams by Booth Tarkington. The music score was by Max Steiner and Roy Webb, and the cinematography by Robert De Grasse. The film received Academy Award nominations for Best Picture and Best Actress.\\nThe film is about a young woman in a financially struggling family, and her pretentious attempts to appear upper-class and wed a wealthy man while concealing her poverty. Hepburn's popularity had declined after her two 1933 film triumphs - her Oscar-winning performance in  Morning Glory and her celebrated performance as Jo March in Little Women; her performance in Alice Adams made her a public favorite again.\",\n",
       "  'zh': '爱丽丝亚当斯是1935年由乔治·史蒂文斯执导，凯瑟琳·赫本主演的一部浪漫主义戏剧电影。它是由RKO制作的，由Pandro S.Berman制作。剧本由多萝西·约斯特、莫蒂默·奥夫纳和简·默芬执导。这部电影改编自布思·塔金顿的小说《爱丽丝亚当斯》。音乐配乐由马克斯·斯坦纳和罗伊·韦伯作曲，电影配乐由罗伯特·德格拉斯作曲。该片获得奥斯卡最佳影片和最佳女主角提名，影片讲述了一个家庭经济拮据的年轻女子，以及她在掩饰贫穷的同时，装出上流社会和嫁给有钱人的自命不凡的样子。赫本在1933年的两部影片《牵牛花》中获得奥斯卡奖，并在《小女人》中扮演乔·马奇，这两部影片大获全胜，赫本的人气也随之下降；她在爱丽丝亚当斯的表演再次成为公众的最爱。',\n",
       "  'cn': None,\n",
       "  'tw': None},\n",
       " 'content': {'en': [], 'zh': [], 'cn': [], 'tw': []}}"
      ]
     },
     "execution_count": 6,
     "metadata": {},
     "output_type": "execute_result"
    }
   ],
   "source": [
    "data[2463]"
   ]
  },
  {
   "cell_type": "code",
   "execution_count": 7,
   "metadata": {},
   "outputs": [
    {
     "data": {
      "text/plain": [
       "'特穆拉·莫里森演什么电影？'"
      ]
     },
     "execution_count": 7,
     "metadata": {},
     "output_type": "execute_result"
    }
   ],
   "source": [
    "data[0]['QUESTIONS'][0]['QTEXT_CN']"
   ]
  },
  {
   "cell_type": "code",
   "execution_count": 8,
   "metadata": {},
   "outputs": [],
   "source": [
    "from nlu_IR.lucene_search.cosQA_search import CosQASearcher\n",
    "from nlu_IR.evaluation.eval import eval_sp"
   ]
  },
  {
   "cell_type": "code",
   "execution_count": 9,
   "metadata": {},
   "outputs": [],
   "source": [
    "test_searcher = CosQASearcher('en')"
   ]
  },
  {
   "cell_type": "code",
   "execution_count": 10,
   "metadata": {},
   "outputs": [
    {
     "data": {
      "text/plain": [
       "[('Q3536311',\n",
       "  'Tracker (2011 film)',\n",
       "  'Tracker is a 2011 British–New Zealand action-thriller film directed by Ian Sharp and starring Ray Winstone and Temuera Morrison. It is set in 1903 New Zealand.',\n",
       "  9.362552642822266),\n",
       " ('Q5243353',\n",
       "  'Once Were Warriors',\n",
       "  \"Once Were Warriors is New Zealand author Alan Duff's bestselling first novel, published in 1990. It tells the story of an urban Māori family, the Hekes, and portrays the reality of domestic violence in New Zealand. It was the basis of a 1994 film of the same title, directed by Lee Tamahori and starring Rena Owen and Temuera Morrison, which made its U.S. premiere at the Hawaii International Film Festival. The novel was followed by two sequels, What Becomes of the Broken Hearted? (1996) and Jake's Long Shadow (2002).\",\n",
       "  9.084122657775879),\n",
       " ('Q2155524',\n",
       "  'River Queen',\n",
       "  'River Queen is a 2005 New Zealand-British war drama film directed by  Vincent Ward and starring Samantha Morton, Kiefer Sutherland, Cliff Curtis, Temuera Morrison and Stephen Rea. The film opened to mixed reviews but performed well at the box office in New Zealand.',\n",
       "  8.532674789428711),\n",
       " ('Q1759154',\n",
       "  'The Beautiful Country',\n",
       "  'The Beautiful Country is a 2004 drama film set in 1990. It is directed by Hans Petter Moland and starring Damien Nguyen, Nick Nolte, Bai Ling, Chau Thi Kim Xuan, Tim Roth, Anh Thu, Temuera Morrison and John Hussey.  The screenplay was written by Sabina Murray, from a story by Murray and Terrence Malick (under the pseudonym Lingard Jervey)',\n",
       "  8.039341926574707),\n",
       " ('Q529851',\n",
       "  'Temuera Morrison',\n",
       "  'Temuera Derek Morrison  (born 26 December 1960) is a New Zealand actor who first gained recognition for his role as Dr. Hone Ropata on the New Zealand soap opera Shortland Street. He gained critical acclaim after starring as Jake \"The Muss\" Heke in the 1994 film Once Were Warriors and its 1999 sequel What Becomes of the Broken Hearted?.\\nHe became internationally well-known after portraying Jango Fett in Star Wars: Episode II – Attack of the Clones (2002) and his clone troopers in both Star Wars: Episode II – Attack of the Clones and Star Wars: Episode III – Revenge of the Sith (2005). He is also known for voicing Chief Tui, the father of the title character in Disney\\'s Moana (2016), and for playing Arthur Curry\\'s father Thomas in Aquaman (2018).',\n",
       "  7.524349212646484),\n",
       " ('Q1631404',\n",
       "  'Shriek If You Know What I Did Last Friday the Thirteenth',\n",
       "  'Shriek If You Know What I Did Last Friday the 13th is a 2000 American direct-to-video horror slasher parody film directed by John Blanchard. The film stars Tiffani-Amber Thiessen, Tom Arnold, Coolio and Shirley Jones. Several mid and late 1990s teen horror films are parodied, as are the slasher films of the 1970s and 1980s, including the Scream films (1996, 1997, and 2000), Friday the 13th (1980), Halloween (1978), A Nightmare on Elm Street (1984), and I Know What You Did Last Summer (1997), as well as other non horror films and television series. Although there are many different films parodied, the film follows the plot of Scream (1996) very closely. It is often compared to Scary Movie, a commercially successful spoof from the same year, which had as a working title Scream If You Know What I Did Last Halloween.',\n",
       "  6.050502777099609),\n",
       " ('Q832363',\n",
       "  'I Still Know What You Did Last Summer',\n",
       "  \"I Still Know What You Did Last Summer is a 1998 slasher film directed by Danny Cannon and written by Trey Callaway. Jennifer Love Hewitt, Freddie Prinze Jr. and Muse Watson reprise their roles, with Brandy, Mekhi Phifer, Jennifer Esposito, Matthew Settle and Jack Black joining the cast. It is the second installment in the I Know What You Did Last Summer trilogy. The film takes place one year after the events of the first film.\\nI Still Know What You Did Last Summer received negative reviews and grossed $84 million on a budget of $24 million. It was shot in Mexico and California. It is a sequel to I Know What You Did Last Summer (1997) and was followed by I'll Always Know What You Did Last Summer (2006).\",\n",
       "  5.95687198638916),\n",
       " ('Q7152616',\n",
       "  'Paul Morrison',\n",
       "  'Paul Morrison is the name of:\\n\\nPaul Morrison (director) (born 1944), British film director & screenwriter\\nPaul Morrison (footballer) (1952–2011), Australian rules footballer\\nPaul J. Morrison (born 1954), American politician and lawyer\\nPaul Morrison (artist) (born 1966), English painter',\n",
       "  5.679368019104004),\n",
       " ('Q15635431',\n",
       "  'Son of Batman',\n",
       "  \"Son of Batman is a direct-to-video animated superhero film which is a part of the DC Universe Animated Original Movies and of DC Animated Movie Universe. It is an adaptation of Grant Morrison and Andy Kubert's 2006 Batman and Son storyline. The film was released as a digital download on April 22, 2014, and was released on physical media May 6, 2014.\",\n",
       "  5.412095069885254),\n",
       " ('Q937087',\n",
       "  'The Doors (film)',\n",
       "  \"The Doors is a 1991 American biographical film about the 1960–1970s rock band of the same name, which emphasizes the life of its lead singer, Jim Morrison. It was directed by Oliver Stone, and stars Val Kilmer as Morrison and Meg Ryan as Pamela Courson (Morrison's companion). The film features Kyle MacLachlan as keyboardist Ray Manzarek, Frank Whaley as guitarist Robby Krieger, Kevin Dillon as drummer John Densmore, and Kathleen Quinlan as journalist Patricia Kennealy.\\nThe film portrays Morrison as a larger-than-life icon of 1960s rock and roll and counterculture, including portrayals of Morrison's recreational drug use, free love, hippie lifestyle, alcoholism, interest in hallucinogenic drugs as entheogens, and, particularly, his growing obsession with death, presented as threads which weave in and out of the film.\\nUpon release, the film received mixed reviews and was not well received by Morrison's bandmates, close friends and family, due to its controversial depiction of Morrison. In addition, the film's cinematography, screenwriting and direction were criticized. Despite the film's box office failure, grossing only $34 million worldwide against its $38 million production budget, the film became a sleeper hit and a cult film.\",\n",
       "  5.118169784545898)]"
      ]
     },
     "execution_count": 10,
     "metadata": {},
     "output_type": "execute_result"
    }
   ],
   "source": [
    "test_searcher.search('what movies did Temuera Morrison act in?', 10)"
   ]
  },
  {
   "cell_type": "code",
   "execution_count": 8,
   "metadata": {},
   "outputs": [],
   "source": [
    "mySearcher = CosQASearcher('zh')"
   ]
  },
  {
   "cell_type": "code",
   "execution_count": 13,
   "metadata": {},
   "outputs": [
    {
     "data": {
      "text/plain": [
       "[('Q1184001',\n",
       "  'What a Girl Wants',\n",
       "  '女孩想要什么可以指：“女孩想要什么”（克里斯蒂娜·阿奎莱拉·宋），1999女孩想要什么（电影），2003年阿曼达·拜恩斯主演的电影“女孩想要什么”（B2K歌曲），2003年“女孩想要什么”，一首4分钟前为穆齐克创作的歌曲',\n",
       "  7.66987943649292),\n",
       " ('Q2155524',\n",
       "  'River Queen',\n",
       "  '河皇后是2005年由文森特·沃德执导，萨曼莎·莫顿、基弗·萨瑟兰、克里夫·柯蒂斯、特穆拉·莫里森和斯蒂芬·雷亚主演的新西兰-英国战争戏剧电影。这部电影的评价参差不齐，但在新西兰的票房表现良好。',\n",
       "  7.614450454711914),\n",
       " ('Q1184001',\n",
       "  'What a Girl Wants',\n",
       "  '女孩想要什么可以指：“女孩想要什么”（克里斯蒂娜·阿奎莱拉之歌），1999女孩想要什么（电影），由阿曼达·拜恩斯主演的2003年电影“女孩想要什么”（B2K之歌），2003年“女孩想要什么”，一首4分钟前为穆齐克创作的歌',\n",
       "  7.595847129821777),\n",
       " ('Q529851',\n",
       "  'Temuera Morrison',\n",
       "  '特穆拉·德里克·莫里森（1960年12月26日出生）是新西兰演员，他在新西兰肥皂剧《肖特兰街》（Shortland Street）中扮演的Hone Ropata博士首次获得认可。他在1994年的电影《曾经是勇士》和1999年的续集《伤心的人是什么》中饰演杰克·海克，获得了评论界的好评？。他在《星球大战：第二集克隆人的进攻》（2002年）和《星球大战：第二集克隆人的进攻》和《星球大战：第三集西斯的复仇》（2005年）中扮演了詹戈·费特（Jango Fett），从而在国际上享有盛名。他还因在《莫阿纳》（2016）中饰演片名人物之父的崔局长以及在《阿奎曼》（2018）中饰演亚瑟·柯里的父亲托马斯而闻名。',\n",
       "  7.592428684234619),\n",
       " ('Q3536311',\n",
       "  'Tracker (2011 film)',\n",
       "  '跟踪器是一部2011年英国-新西兰动作惊悚片，由伊恩·夏普执导，雷·温斯顿和特穆拉·莫里森主演。它设定在1903年的新西兰。',\n",
       "  7.053170680999756)]"
      ]
     },
     "execution_count": 13,
     "metadata": {},
     "output_type": "execute_result"
    }
   ],
   "source": [
    "mySearcher.search('特穆拉·莫里森演什么电影？', 5)"
   ]
  },
  {
   "cell_type": "code",
   "execution_count": 25,
   "metadata": {},
   "outputs": [],
   "source": [
    "def inspect_cosqa(data):\n",
    "    \n",
    "    num_gold_sp = 0\n",
    "    valid_data = []\n",
    "    invalid_data = []\n",
    "    for d in tqdm(data):\n",
    "        try:\n",
    "            assert len(d['QUESTIONS']) == 1, 'There are {} questions!'.format(len(d['QUESTIONS']))\n",
    "            gold_sp = d['QUESTIONS'][0]['SHINT_']\n",
    "            num_gold_sp += len(gold_sp)\n",
    "            valid_data.append(d)\n",
    "        except Exception:\n",
    "            \n",
    "            invalid_data\n",
    "    print(\"average_gold_sp:{}\".format(num_gold_sp/len(data)))"
   ]
  },
  {
   "cell_type": "code",
   "execution_count": 26,
   "metadata": {},
   "outputs": [
    {
     "name": "stderr",
     "output_type": "stream",
     "text": [
      "/usr/local/lib/python3.6/dist-packages/ipykernel_launcher.py:4: TqdmDeprecationWarning: This function will be removed in tqdm==5.0.0\n",
      "Please use `tqdm.notebook.tqdm` instead of `tqdm.tqdm_notebook`\n",
      "  after removing the cwd from sys.path.\n"
     ]
    },
    {
     "data": {
      "application/vnd.jupyter.widget-view+json": {
       "model_id": "eac1f34424eb4300a3ad8b64e963db95",
       "version_major": 2,
       "version_minor": 0
      },
      "text/plain": [
       "HBox(children=(FloatProgress(value=0.0, max=6710.0), HTML(value='')))"
      ]
     },
     "metadata": {},
     "output_type": "display_data"
    },
    {
     "name": "stdout",
     "output_type": "stream",
     "text": [
      "\n"
     ]
    },
    {
     "ename": "KeyError",
     "evalue": "'QUESTIONS'",
     "output_type": "error",
     "traceback": [
      "\u001b[0;31m---------------------------------------------------------------------------\u001b[0m",
      "\u001b[0;31mKeyError\u001b[0m                                  Traceback (most recent call last)",
      "\u001b[0;32m<ipython-input-26-2413a5b7787d>\u001b[0m in \u001b[0;36m<module>\u001b[0;34m\u001b[0m\n\u001b[0;32m----> 1\u001b[0;31m \u001b[0minspect_cosqa\u001b[0m\u001b[0;34m(\u001b[0m\u001b[0mdata\u001b[0m\u001b[0;34m)\u001b[0m\u001b[0;34m\u001b[0m\u001b[0;34m\u001b[0m\u001b[0m\n\u001b[0m",
      "\u001b[0;32m<ipython-input-25-4b20090555fe>\u001b[0m in \u001b[0;36minspect_cosqa\u001b[0;34m(data)\u001b[0m\n\u001b[1;32m      3\u001b[0m     \u001b[0mnum_gold_sp\u001b[0m \u001b[0;34m=\u001b[0m \u001b[0;36m0\u001b[0m\u001b[0;34m\u001b[0m\u001b[0;34m\u001b[0m\u001b[0m\n\u001b[1;32m      4\u001b[0m     \u001b[0;32mfor\u001b[0m \u001b[0md\u001b[0m \u001b[0;32min\u001b[0m \u001b[0mtqdm\u001b[0m\u001b[0;34m(\u001b[0m\u001b[0mdata\u001b[0m\u001b[0;34m)\u001b[0m\u001b[0;34m:\u001b[0m\u001b[0;34m\u001b[0m\u001b[0;34m\u001b[0m\u001b[0m\n\u001b[0;32m----> 5\u001b[0;31m         \u001b[0;32massert\u001b[0m \u001b[0mlen\u001b[0m\u001b[0;34m(\u001b[0m\u001b[0md\u001b[0m\u001b[0;34m[\u001b[0m\u001b[0;34m'QUESTIONS'\u001b[0m\u001b[0;34m]\u001b[0m\u001b[0;34m)\u001b[0m \u001b[0;34m==\u001b[0m \u001b[0;36m1\u001b[0m\u001b[0;34m,\u001b[0m \u001b[0;34m'There are {} questions!'\u001b[0m\u001b[0;34m.\u001b[0m\u001b[0mformat\u001b[0m\u001b[0;34m(\u001b[0m\u001b[0mlen\u001b[0m\u001b[0;34m(\u001b[0m\u001b[0md\u001b[0m\u001b[0;34m[\u001b[0m\u001b[0;34m'QUESTIONS'\u001b[0m\u001b[0;34m]\u001b[0m\u001b[0;34m)\u001b[0m\u001b[0;34m)\u001b[0m\u001b[0;34m\u001b[0m\u001b[0;34m\u001b[0m\u001b[0m\n\u001b[0m\u001b[1;32m      6\u001b[0m         \u001b[0mgold_sp\u001b[0m \u001b[0;34m=\u001b[0m \u001b[0md\u001b[0m\u001b[0;34m[\u001b[0m\u001b[0;34m'QUESTIONS'\u001b[0m\u001b[0;34m]\u001b[0m\u001b[0;34m[\u001b[0m\u001b[0;36m0\u001b[0m\u001b[0;34m]\u001b[0m\u001b[0;34m[\u001b[0m\u001b[0;34m'SHINT_'\u001b[0m\u001b[0;34m]\u001b[0m\u001b[0;34m\u001b[0m\u001b[0;34m\u001b[0m\u001b[0m\n\u001b[1;32m      7\u001b[0m         \u001b[0mnum_gold_sp\u001b[0m \u001b[0;34m+=\u001b[0m \u001b[0mlen\u001b[0m\u001b[0;34m(\u001b[0m\u001b[0mgold_sp\u001b[0m\u001b[0;34m)\u001b[0m\u001b[0;34m\u001b[0m\u001b[0;34m\u001b[0m\u001b[0m\n",
      "\u001b[0;31mKeyError\u001b[0m: 'QUESTIONS'"
     ]
    }
   ],
   "source": [
    "inspect_cosqa(data)"
   ]
  },
  {
   "cell_type": "code",
   "execution_count": 15,
   "metadata": {},
   "outputs": [],
   "source": [
    "def search_batch(q_texts, searcher, ton_n):\n",
    "    predictions = []\n",
    "    \n",
    "    for q_text in enumerate(q_texts):\n",
    "        prediction = searcher.search(q_text, top_n)\n",
    "        predictions.append([p[0] for p in prediction])\n",
    "    return predictions"
   ]
  },
  {
   "cell_type": "code",
   "execution_count": null,
   "metadata": {},
   "outputs": [],
   "source": [
    "def eval_cosqa(data):\n",
    "    searcher_cn = CosQASearcher('zh')\n",
    "    searcher_en = CosQASearcher('en')\n",
    "    \n",
    "    cn_q_texts = []\n",
    "    en_q_texts = []\n",
    "    golds = []\n",
    "    for d in data:\n",
    "        assert len(d['QUESTIONS']) == 1, 'There are {} questions!'.format(len(d['QUESTIONS']))\n",
    "        cn_q_texts.append(['QUESTIONS'][0]['QTEXT_CN'])\n",
    "        en_q_texts.append(['QUESTIONS'][0]['QTEXT'])\n",
    "        golds.append(['QUESTIONS'][0]['SHINT_'])\n",
    "    \n",
    "    #search\n",
    "    search_batch(cn_q_texts, searcher_cn, 10)\n",
    "        "
   ]
  },
  {
   "cell_type": "code",
   "execution_count": 9,
   "metadata": {},
   "outputs": [],
   "source": [
    "test_query = '特穆拉·莫里森演什麼電影？'"
   ]
  },
  {
   "cell_type": "code",
   "execution_count": 10,
   "metadata": {},
   "outputs": [
    {
     "data": {
      "text/plain": [
       "[('Q454328',\n",
       "  'Stacey Dash',\n",
       "  '斯泰西·劳雷塔·达什（1966年或1967年1月20日出生）是一位美国女演员和前脱口秀主持人。达什在1995年的故事片《无影无踪》和同名电视连续剧中扮演迪翁·玛丽·达文波特。她还出演过电影《感动》、《莫钱》、《文艺复兴的男人》和《从高处看》。达什的其他电视作品包括在《犯罪现场调查：单身女性》和真人秀《名人马戏团》中的露面。她还出现在卡尔·托马斯的音乐录影带《情感》和坎耶·韦斯特的《所有的堕落》中。',\n",
       "  8.23513412475586),\n",
       " ('Q2155524',\n",
       "  'River Queen',\n",
       "  '河皇后是2005年由文森特·沃德执导，萨曼莎·莫顿、基弗·萨瑟兰、克里夫·柯蒂斯、特穆拉·莫里森和斯蒂芬·雷亚主演的新西兰-英国战争戏剧电影。这部电影的评价参差不齐，但在新西兰的票房表现良好。',\n",
       "  7.406106948852539),\n",
       " ('Q1129503',\n",
       "  'Glen or Glenda',\n",
       "  '《格伦或格伦达》是一部1953年的美国剥削电影，由埃德·伍德执导并主演（在他主演的《丹尼尔·戴维斯》中有人称赞），影片中贝拉·卢戈西和伍德当时的女友多洛丽丝·富勒是主角。该片由乔治·韦斯（George Weiss）制作，同年他还制作了一部剥削电影《试管婴儿》（Test Tube Babies），是一部关于变装和变性的纪录片，性质上是半自传体的。伍德本人就是一个变装者，这部电影是对宽容的恳求。它被广泛认为是有史以来最差的电影之一。然而，由于其低成本的生产价值和独特的风格，它已经成为一个邪典電影。',\n",
       "  7.125361919403076),\n",
       " ('Q3536311',\n",
       "  'Tracker (2011 film)',\n",
       "  '跟踪器是一部2011年英国-新西兰动作惊悚片，由伊恩·夏普执导，雷·温斯顿和特穆拉·莫里森主演。它设定在1903年的新西兰。',\n",
       "  7.053170680999756),\n",
       " ('Q7136855',\n",
       "  'Paresh Mokashi',\n",
       "  '帕雷什莫卡希（1969年2月6日出生）是一名印度电影制片人、制片人、演员和戏剧导演；主要在马拉地电影院和马拉地剧院工作。他开始为剧院做后台工作，除了拍电影外，很少为戏剧做次要角色。1999年，莫卡希首次执导马拉地戏剧《桑吉特·德布奇亚·穆利》（Sangeet Debuchya Mulee）的戏剧。他继续为剧院工作，并与2009年马拉蒂故事片，哈里什昌德拉奇工厂为电影导演处女作。这部电影描绘了印度第一部长篇故事片《拉贾·哈里什钱德拉》（Raja Harishchandra，1913年）的制作过程，由达达沙布·法尔克（Dadasaheb Phalke）制作。这部电影获得了评论界的好评并获得了好几个奖项。它还被选为印度第82届奥斯卡最佳外语片奖的正式参赛作品。',\n",
       "  7.042661666870117)]"
      ]
     },
     "execution_count": 10,
     "metadata": {},
     "output_type": "execute_result"
    }
   ],
   "source": [
    "mySearcher.search(test_query, 5)"
   ]
  }
 ],
 "metadata": {
  "kernelspec": {
   "display_name": "Python 3",
   "language": "python",
   "name": "python3"
  },
  "language_info": {
   "codemirror_mode": {
    "name": "ipython",
    "version": 3
   },
   "file_extension": ".py",
   "mimetype": "text/x-python",
   "name": "python",
   "nbconvert_exporter": "python",
   "pygments_lexer": "ipython3",
   "version": "3.6.8"
  }
 },
 "nbformat": 4,
 "nbformat_minor": 4
}
