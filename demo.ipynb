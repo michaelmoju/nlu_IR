{
 "cells": [
  {
   "cell_type": "code",
   "execution_count": 1,
   "metadata": {},
   "outputs": [
    {
     "data": {
      "text/plain": [
       "'/media/moju/data/work/nlu_IR'"
      ]
     },
     "execution_count": 1,
     "metadata": {},
     "output_type": "execute_result"
    }
   ],
   "source": [
    "import os\n",
    "import sys\n",
    "import json\n",
    "from tqdm import tqdm_notebook as tqdm\n",
    "\n",
    "w_dir = %pwd\n",
    "work_dir = os.path.dirname(w_dir)\n",
    "w_dir"
   ]
  },
  {
   "cell_type": "code",
   "execution_count": 2,
   "metadata": {},
   "outputs": [],
   "source": [
    "sys.path.append(w_dir+'/nlu_IR')"
   ]
  },
  {
   "cell_type": "code",
   "execution_count": 3,
   "metadata": {},
   "outputs": [],
   "source": [
    "from nlu_IR import config\n",
    "from nlu_IR import std"
   ]
  },
  {
   "cell_type": "code",
   "execution_count": 4,
   "metadata": {},
   "outputs": [
    {
     "data": {
      "text/plain": [
       "PosixPath('/media/moju/data/work/nlu_IR/data/cosQA/movieqa_1.0/movieqa_dev.json')"
      ]
     },
     "execution_count": 4,
     "metadata": {},
     "output_type": "execute_result"
    }
   ],
   "source": [
    "config.COS_DEV"
   ]
  },
  {
   "cell_type": "code",
   "execution_count": 5,
   "metadata": {},
   "outputs": [],
   "source": [
    "data = std.json_load(config.COS_DEV)"
   ]
  },
  {
   "cell_type": "code",
   "execution_count": 6,
   "metadata": {},
   "outputs": [
    {
     "data": {
      "text/plain": [
       "6710"
      ]
     },
     "execution_count": 6,
     "metadata": {},
     "output_type": "execute_result"
    }
   ],
   "source": [
    "len(data)"
   ]
  },
  {
   "cell_type": "code",
   "execution_count": 7,
   "metadata": {},
   "outputs": [
    {
     "data": {
      "text/plain": [
       "{'DID': 'wiki-entities_qa_actor_to_movie_dev_1',\n",
       " 'DTEXT': 'Temuera Derek Morrison  (born 26 December 1960) is a New Zealand actor who first gained recognition for his role as Dr. Hone Ropata on the New Zealand soap opera Shortland Street. He gained critical acclaim after starring as Jake \"The Muss\" Heke in the 1994 film Once Were Warriors and its 1999 sequel What Becomes of the Broken Hearted?.\\nHe became internationally well-known after portraying Jango Fett in Star Wars: Episode II – Attack of the Clones (2002) and his clone troopers in both Star Wars: Episode II – Attack of the Clones and Star Wars: Episode III – Revenge of the Sith (2005). He is also known for voicing Chief Tui, the father of the title character in Disney\\'s Moana (2016), and for playing Arthur Curry\\'s father Thomas in Aquaman (2018).\\nOnce Were Warriors is New Zealand author Alan Duff\\'s bestselling first novel, published in 1990. It tells the story of an urban Māori family, the Hekes, and portrays the reality of domestic violence in New Zealand. It was the basis of a 1994 film of the same title, directed by Lee Tamahori and starring Rena Owen and Temuera Morrison, which made its U.S. premiere at the Hawaii International Film Festival. The novel was followed by two sequels, What Becomes of the Broken Hearted? (1996) and Jake\\'s Long Shadow (2002).\\nTracker is a 2011 British–New Zealand action-thriller film directed by Ian Sharp and starring Ray Winstone and Temuera Morrison. It is set in 1903 New Zealand.\\nRiver Queen is a 2005 New Zealand-British war drama film directed by  Vincent Ward and starring Samantha Morton, Kiefer Sutherland, Cliff Curtis, Temuera Morrison and Stephen Rea. The film opened to mixed reviews but performed well at the box office in New Zealand.',\n",
       " 'DTEXT_CN': '特穆拉·德里克·莫里森（1960年12月26日出生）是新西兰演员，他在新西兰肥皂剧《肖特兰街》（Shortland Street）中扮演的Hone Ropata博士首次获得认可。他在1994年的电影《曾经是勇士》和1999年的续集《伤心的人是什么》中饰演杰克·海克，获得了评论界的好评？。他在《星球大战：第二集克隆人的进攻》（2002年）和《星球大战：第二集克隆人的进攻》和《星球大战：第三集西斯的复仇》（2005年）中扮演了詹戈·费特（Jango Fett），从而在国际上享有盛名。他还因在《莫阿纳》（2016）中饰演片名人物之父的崔局长以及在《阿奎曼》（2018）中饰演亚瑟·柯里的父亲托马斯而闻名。\\n曾经是勇士是新西兰作家艾伦·达夫1990年出版的第一部畅销小说。它讲述了一个城市毛利人家庭Hekes的故事，描绘了新西兰家庭暴力的现实。这是1994年由李·塔马霍里执导、雷娜·欧文和特穆拉·莫里森主演的同名电影的基础，该片在夏威夷国际电影节上在美国首映。这部小说之后有两部续集，伤心的人会怎么样？（1996）和杰克的长影（2002）。\\n跟踪器是一部2011年英国-新西兰动作惊悚片，由伊恩·夏普执导，雷·温斯顿和特穆拉·莫里森主演。它设定在1903年的新西兰。\\n河皇后是2005年由文森特·沃德执导，萨曼莎·莫顿、基弗·萨瑟兰、克里夫·柯蒂斯、特穆拉·莫里森和斯蒂芬·雷亚主演的新西兰-英国战争戏剧电影。这部电影的评价参差不齐，但在新西兰的票房表现良好。',\n",
       " 'DTEXT_TW': '特穆拉·德里克·莫里森（1960年12月26日出生）是新西蘭演員，他在新西蘭肥皂劇《肖特蘭街》（Shortland Street）中扮演的Hone Ropata博士首次獲得認可。他在1994年的電影《曾經是勇士》和1999年的續集《傷心的人是什麼》中飾演傑克·海克，獲得了評論界的好評？。他在《星球大戰：第二集克隆人的進攻》（2002年）和《星球大戰：第二集克隆人的進攻》和《星球大戰：第三集西斯的復仇》（2005年）中扮演了詹戈·費特（Jango Fett），從而在國際上享有盛名。他還因在《莫阿納》（2016）中飾演片名人物之父的崔局長以及在《阿奎曼》（2018）中飾演亞瑟·柯里的父親托馬斯而聞名。\\n曾經是勇士是新西蘭作家艾倫·達夫1990年出版的第一部暢銷小說。它講述了一個城市毛利人家庭Hekes的故事，描繪了新西蘭家庭暴力的現實。這是1994年由李·塔馬霍里執導、雷娜·歐文和特穆拉·莫里森主演的同名電影的基礎，該片在夏威夷國際電影節上在美國首映。這部小說之後有兩部續集，傷心的人會怎麼樣？（1996）和傑克的長影（2002）。\\n跟蹤器是一部2011年英國-新西蘭動作驚悚片，由伊恩·夏普執導，雷·溫斯頓和特穆拉·莫里森主演。它設定在1903年的新西蘭。\\n河皇后是2005年由文森特·沃德執導，薩曼莎·莫頓、基弗·薩瑟蘭、克里夫·柯蒂斯、特穆拉·莫里森和斯蒂芬·雷亞主演的新西蘭-英國戰爭戲劇電影。這部電影的評價參差不齊，但在新西蘭的票房表現良好。',\n",
       " 'QUESTIONS': [{'QID': '1_1',\n",
       "   'QTYPE': 'atm',\n",
       "   'ATYPE_': 'Object',\n",
       "   'AMODE_': ['Multi-Spans-Extraction'],\n",
       "   'SHINT_': ['Q5243353', 'Q3536311', 'Q2155524', 'Q529851'],\n",
       "   'QTEXT': 'what movies did Temuera Morrison act in?',\n",
       "   'QTEXT_CN': '特穆拉·莫里森演什么电影？',\n",
       "   'QTEXT_TW': '特穆拉·莫里森演什麼電影？',\n",
       "   'ANSWER': [{'ATEXT': 'Once Were Warriors, Tracker, River Queen',\n",
       "     'ATEXT_CN': '曾经是勇士、 跟踪器、 河皇后',\n",
       "     'ATEXT_TW': '曾經是勇士、 跟蹤器、 河皇后'}]}]}"
      ]
     },
     "execution_count": 7,
     "metadata": {},
     "output_type": "execute_result"
    }
   ],
   "source": [
    "data[0]"
   ]
  },
  {
   "cell_type": "code",
   "execution_count": 8,
   "metadata": {},
   "outputs": [],
   "source": [
    "test_file = std.list_fps(config.COS_WIKI)[0]"
   ]
  },
  {
   "cell_type": "code",
   "execution_count": 9,
   "metadata": {},
   "outputs": [
    {
     "data": {
      "text/plain": [
       "'/media/moju/data/work/nlu_IR/data/cosQA/doc/wiki-entities_qa_actor_to_movie_dev_doc.json'"
      ]
     },
     "execution_count": 9,
     "metadata": {},
     "output_type": "execute_result"
    }
   ],
   "source": [
    "test_file"
   ]
  },
  {
   "cell_type": "code",
   "execution_count": 10,
   "metadata": {},
   "outputs": [],
   "source": [
    "data = std.json_load(test_file)"
   ]
  },
  {
   "cell_type": "code",
   "execution_count": 11,
   "metadata": {},
   "outputs": [],
   "source": [
    "import re"
   ]
  },
  {
   "cell_type": "code",
   "execution_count": 30,
   "metadata": {},
   "outputs": [],
   "source": [
    "def get_content(doc):\n",
    "    DID_URL_RGX = re.compile(r'https://www.wikidata.org/wiki/(Q.*)')\n",
    "    \n",
    "    en_title = doc['title']['en']\n",
    "    assert en_title\n",
    "    url = doc['ref']['en']['url']\n",
    "    did = DID_URL_RGX.findall(doc['ref']['en']['wikidata_url'])[0]\n",
    "    \n",
    "    en_content = doc['summary']['en']\n",
    "    zh_content = doc['summary']['zh']\n",
    "    \n",
    "    return did, en_title, url, en_content, zh_content "
   ]
  },
  {
   "cell_type": "code",
   "execution_count": 31,
   "metadata": {},
   "outputs": [
    {
     "data": {
      "text/plain": [
       "('Q5243353',\n",
       " 'Once Were Warriors',\n",
       " 'https://en.wikipedia.org/wiki/Once_Were_Warriors_(film)',\n",
       " \"Once Were Warriors is New Zealand author Alan Duff's bestselling first novel, published in 1990. It tells the story of an urban Māori family, the Hekes, and portrays the reality of domestic violence in New Zealand. It was the basis of a 1994 film of the same title, directed by Lee Tamahori and starring Rena Owen and Temuera Morrison, which made its U.S. premiere at the Hawaii International Film Festival. The novel was followed by two sequels, What Becomes of the Broken Hearted? (1996) and Jake's Long Shadow (2002).\",\n",
       " '曾经是勇士是新西兰作家艾伦·达夫1990年出版的第一部畅销小说。它讲述了一个城市毛利人家庭Hekes的故事，描绘了新西兰家庭暴力的现实。这是1994年由李·塔马霍里执导、雷娜·欧文和特穆拉·莫里森主演的同名电影的基础，该片在夏威夷国际电影节上在美国首映。这部小说之后有两部续集，伤心的人会怎么样？（1996）和杰克的长影（2002）。')"
      ]
     },
     "execution_count": 31,
     "metadata": {},
     "output_type": "execute_result"
    }
   ],
   "source": [
    "get_content(data[0])"
   ]
  },
  {
   "cell_type": "code",
   "execution_count": 121,
   "metadata": {},
   "outputs": [
    {
     "name": "stdout",
     "output_type": "stream",
     "text": [
      "Tracker is a 2011 British–New Zealand action-thriller film directed by Ian Sharp and starring Ray Winstone and Temuera Morrison. It is set in 1903 New Zealand.\n",
      "跟踪器是一部2011年英国-新西兰动作惊悚片，由伊恩·夏普执导，雷·温斯顿和特穆拉·莫里森主演。它设定在1903年的新西兰。\n"
     ]
    }
   ],
   "source": [
    "get_content(data[1])"
   ]
  },
  {
   "cell_type": "code",
   "execution_count": 16,
   "metadata": {},
   "outputs": [
    {
     "data": {
      "text/plain": [
       "[{'title': {'en': 'Once Were Warriors', 'zh': None, 'cn': None, 'tw': None},\n",
       "  'ref': {'en': {'wikibase': 'Q5243353',\n",
       "    'pageid': 759873,\n",
       "    'url': 'https://en.wikipedia.org/wiki/Once_Were_Warriors_(film)',\n",
       "    'wikidata_url': 'https://www.wikidata.org/wiki/Q5243353'},\n",
       "   'zh': {'wikibase': None,\n",
       "    'pageid': None,\n",
       "    'url': None,\n",
       "    'wikidata_url': None}},\n",
       "  'infobox': {'en': [{'name': 'Once Were Warriors'},\n",
       "    {'image': 'Alan Duff - Once Were Warriors.jpeg'},\n",
       "    {'caption': 'First edition cover'},\n",
       "    {'author': '[[Alan Duff]]'},\n",
       "    {'country': '[[New Zealand]]'},\n",
       "    {'language': '[[English language|English]]'},\n",
       "    {'publisher': '[[Tandem Press]]'},\n",
       "    {'release_date': '1990'},\n",
       "    {'followed_by': '[[What Becomes of the Broken Hearted? (novel)|What Becomes of the Broken Hearted?]]'}],\n",
       "   'cn': [],\n",
       "   'tw': []},\n",
       "  'summary': {'en': \"Once Were Warriors is New Zealand author Alan Duff's bestselling first novel, published in 1990. It tells the story of an urban Māori family, the Hekes, and portrays the reality of domestic violence in New Zealand. It was the basis of a 1994 film of the same title, directed by Lee Tamahori and starring Rena Owen and Temuera Morrison, which made its U.S. premiere at the Hawaii International Film Festival. The novel was followed by two sequels, What Becomes of the Broken Hearted? (1996) and Jake's Long Shadow (2002).\",\n",
       "   'zh': '曾经是勇士是新西兰作家艾伦·达夫1990年出版的第一部畅销小说。它讲述了一个城市毛利人家庭Hekes的故事，描绘了新西兰家庭暴力的现实。这是1994年由李·塔马霍里执导、雷娜·欧文和特穆拉·莫里森主演的同名电影的基础，该片在夏威夷国际电影节上在美国首映。这部小说之后有两部续集，伤心的人会怎么样？（1996）和杰克的长影（2002）。',\n",
       "   'cn': None,\n",
       "   'tw': None},\n",
       "  'content': {'en': [], 'zh': [], 'cn': [], 'tw': []}},\n",
       " {'title': {'en': 'Tracker (2011 film)', 'zh': None, 'cn': None, 'tw': None},\n",
       "  'ref': {'en': {'wikibase': 'Q3536311',\n",
       "    'pageid': 25484962,\n",
       "    'url': 'https://en.wikipedia.org/wiki/Tracker_(2011_film)',\n",
       "    'wikidata_url': 'https://www.wikidata.org/wiki/Q3536311'},\n",
       "   'zh': {'wikibase': None,\n",
       "    'pageid': None,\n",
       "    'url': None,\n",
       "    'wikidata_url': None}},\n",
       "  'infobox': {'en': [{'name': 'Tracker'},\n",
       "    {'image': 'Tracker2010Poster.jpg'},\n",
       "    {'caption': 'Film poster'},\n",
       "    {'director': '[[Ian Sharp]]'},\n",
       "    {'writer': '[[Nicholas Van Pallandt]]'},\n",
       "    {'starring': '[[Ray Winstone]]<br/>[[Temuera Morrison]]'},\n",
       "    {'distributor': '[[Kaleidoscope Entertainment]]'},\n",
       "    {'released': '{{Film date|df|=|yes|2010|9|12|[[2010 Toronto International Film Festival|TIFF]]}}'},\n",
       "    {'runtime': '103 minutes'},\n",
       "    {'country': 'United Kingdom<br/>New Zealand'},\n",
       "    {'language': 'English'}],\n",
       "   'cn': [],\n",
       "   'tw': []},\n",
       "  'summary': {'en': 'Tracker is a 2011 British–New Zealand action-thriller film directed by Ian Sharp and starring Ray Winstone and Temuera Morrison. It is set in 1903 New Zealand.',\n",
       "   'zh': '跟踪器是一部2011年英国-新西兰动作惊悚片，由伊恩·夏普执导，雷·温斯顿和特穆拉·莫里森主演。它设定在1903年的新西兰。',\n",
       "   'cn': None,\n",
       "   'tw': None},\n",
       "  'content': {'en': [], 'zh': [], 'cn': [], 'tw': []}},\n",
       " {'title': {'en': 'River Queen', 'zh': None, 'cn': None, 'tw': None},\n",
       "  'ref': {'en': {'wikibase': 'Q2155524',\n",
       "    'pageid': 2480103,\n",
       "    'url': 'https://en.wikipedia.org/wiki/River_Queen',\n",
       "    'wikidata_url': 'https://www.wikidata.org/wiki/Q2155524'},\n",
       "   'zh': {'wikibase': None,\n",
       "    'pageid': None,\n",
       "    'url': None,\n",
       "    'wikidata_url': None}},\n",
       "  'infobox': {'en': [{'name': 'River Queen'},\n",
       "    {'image': 'river queen.jpg'},\n",
       "    {'director': '[[Vincent Ward (director)|Vincent Ward]] <br> [[Alun Bollinger]] <small>(uncredited)</small>'},\n",
       "    {'producer': 'Chris Auty'},\n",
       "    {'writer': 'Vincent Ward'},\n",
       "    {'starring': '[[Samantha Morton]]<br />[[Kiefer Sutherland]]<br />[[Cliff Curtis]]<br />[[Stephen Rea]]'},\n",
       "    {'music': '[[Karl Jenkins]]'},\n",
       "    {'distributor': '[[20th Century Fox]]'},\n",
       "    {'released': '2005'},\n",
       "    {'runtime': '114 minutes'},\n",
       "    {'country': 'New Zealand <br> United Kingdom'},\n",
       "    {'language': 'English'},\n",
       "    {'budget': '$24,030,000 (NZ)'},\n",
       "    {'gross': '$915,442'}],\n",
       "   'cn': [],\n",
       "   'tw': []},\n",
       "  'summary': {'en': 'River Queen is a 2005 New Zealand-British war drama film directed by  Vincent Ward and starring Samantha Morton, Kiefer Sutherland, Cliff Curtis, Temuera Morrison and Stephen Rea. The film opened to mixed reviews but performed well at the box office in New Zealand.',\n",
       "   'zh': '河皇后是2005年由文森特·沃德执导，萨曼莎·莫顿、基弗·萨瑟兰、克里夫·柯蒂斯、特穆拉·莫里森和斯蒂芬·雷亚主演的新西兰-英国战争戏剧电影。这部电影的评价参差不齐，但在新西兰的票房表现良好。',\n",
       "   'cn': None,\n",
       "   'tw': None},\n",
       "  'content': {'en': [], 'zh': [], 'cn': [], 'tw': []}},\n",
       " {'title': {'en': 'Temuera Morrison', 'zh': None, 'cn': None, 'tw': None},\n",
       "  'ref': {'en': {'wikibase': 'Q529851',\n",
       "    'pageid': 897473,\n",
       "    'url': 'https://en.wikipedia.org/wiki/Temuera_Morrison',\n",
       "    'wikidata_url': 'https://www.wikidata.org/wiki/Q529851'},\n",
       "   'zh': {'wikibase': None,\n",
       "    'pageid': None,\n",
       "    'url': None,\n",
       "    'wikidata_url': None}},\n",
       "  'infobox': {'en': [{'name': 'Temuera Morrison'},\n",
       "    {'honorific_suffix': '{{post-nominals|country|=|NZL|MNZM|size|=|100%}}'},\n",
       "    {'image': 'Temuera Morrison 2016.jpg'},\n",
       "    {'caption': 'Morrison in October 2016'},\n",
       "    {'birth_date': '{{Birth date and age|df|=|yes|1960|12|26}}'},\n",
       "    {'birth_place': '[[Rotorua]], New Zealand'},\n",
       "    {'birth_name': 'Temuera Derek Morrison'},\n",
       "    {'alma_mater': '[[Wesley College, Auckland]]<br />[[Western Heights High School]]'},\n",
       "    {'occupation': 'Actor'},\n",
       "    {'yearsactive': '1972–present'},\n",
       "    {'othername': 'Tem'},\n",
       "    {'partner': 'Ashlee Howden-Sadlier<br />[[Angela Dotchin]] <small>(1997–2002)</small>'},\n",
       "    {'children': '2'},\n",
       "    {'relatives': '[[Taini Morrison]] (sister)<br />[[Howard Morrison]] (uncle)<br />[[Atareta Maxwell]] (aunt)<br />[[Michael Ashton]] (cousin)'}],\n",
       "   'cn': [],\n",
       "   'tw': []},\n",
       "  'summary': {'en': 'Temuera Derek Morrison  (born 26 December 1960) is a New Zealand actor who first gained recognition for his role as Dr. Hone Ropata on the New Zealand soap opera Shortland Street. He gained critical acclaim after starring as Jake \"The Muss\" Heke in the 1994 film Once Were Warriors and its 1999 sequel What Becomes of the Broken Hearted?.\\nHe became internationally well-known after portraying Jango Fett in Star Wars: Episode II – Attack of the Clones (2002) and his clone troopers in both Star Wars: Episode II – Attack of the Clones and Star Wars: Episode III – Revenge of the Sith (2005). He is also known for voicing Chief Tui, the father of the title character in Disney\\'s Moana (2016), and for playing Arthur Curry\\'s father Thomas in Aquaman (2018).',\n",
       "   'zh': '特穆拉·德里克·莫里森（1960年12月26日出生）是新西兰演员，他在新西兰肥皂剧《肖特兰街》（Shortland Street）中扮演的Hone Ropata博士首次获得认可。他在1994年的电影《曾经是勇士》和1999年的续集《伤心的人是什么》中饰演杰克·海克，获得了评论界的好评？。他在《星球大战：第二集克隆人的进攻》（2002年）和《星球大战：第二集克隆人的进攻》和《星球大战：第三集西斯的复仇》（2005年）中扮演了詹戈·费特（Jango Fett），从而在国际上享有盛名。他还因在《莫阿纳》（2016）中饰演片名人物之父的崔局长以及在《阿奎曼》（2018）中饰演亚瑟·柯里的父亲托马斯而闻名。',\n",
       "   'cn': None,\n",
       "   'tw': None},\n",
       "  'content': {'en': [], 'zh': [], 'cn': [], 'tw': []}},\n",
       " {'title': {'en': 'Alice Adams (1935 film)',\n",
       "   'zh': None,\n",
       "   'cn': None,\n",
       "   'tw': None},\n",
       "  'ref': {'en': {'wikibase': 'Q1619523',\n",
       "    'pageid': 7301880,\n",
       "    'url': 'https://en.wikipedia.org/wiki/Alice_Adams_(1935_film)',\n",
       "    'wikidata_url': 'https://www.wikidata.org/wiki/Q1619523'},\n",
       "   'zh': {'wikibase': None,\n",
       "    'pageid': None,\n",
       "    'url': None,\n",
       "    'wikidata_url': None}},\n",
       "  'infobox': {'en': [{'name': 'Alice Adams'},\n",
       "    {'image': 'Alice-Adams-Poster-1935.jpg'},\n",
       "    {'caption': 'Theatrical release poster'},\n",
       "    {'director': '[[George Stevens]]'},\n",
       "    {'producer': '[[Pandro S. Berman]]'},\n",
       "    {'based on': \"{{based on|''[[Alice Adams (novel)|Alice Adams]]''<br>1921 novel|[[Booth Tarkington]]}}\"},\n",
       "    {'screenplay': '[[Dorothy Yost]]<br>[[Mortimer Offner]]<br>[[Jane Murfin]]'},\n",
       "    {'starring': '[[Katharine Hepburn]]<br>[[Fred MacMurray]]<br>[[Fred Stone]]<br>[[Evelyn Venable]]'},\n",
       "    {'music': '[[Max Steiner]]<br>[[Roy Webb]]'},\n",
       "    {'cinematography': '[[Robert De Grasse]]'},\n",
       "    {'editing': '[[Jane Loring]]'},\n",
       "    {'studio': '[[RKO Radio Pictures]]'},\n",
       "    {'distributor': 'RKO Radio Pictures'},\n",
       "    {'released': '{{Film date|1935|8|15|ref1|=|ref| name=\"Brown124\"|{{cite book |title=Movie Time: A Chronology of Hollywood and the Movie Industry from Its Beginnings to the Present |last=Brown |first=Gene |authorlink= |authors= |year=1995 |publisher=Macmillan |location=New York |isbn=0-02-860429-6 |page=[https://archive.org/details/movietimechronol00brow/page/124 124] |pages= |url=https://archive.org/details/movietimechronol00brow/page/124 |accessdate= |url-access=registration }} In New York, the film premiered at [[Radio City Music Hall]].|</ref>}}'},\n",
       "    {'runtime': '99 minutes'},\n",
       "    {'country': 'United States'},\n",
       "    {'language': 'English'},\n",
       "    {'budget': '$342,000'},\n",
       "    {'gross': '$770,000'}],\n",
       "   'cn': [],\n",
       "   'tw': []},\n",
       "  'summary': {'en': \"Alice Adams is a 1935 romantic drama film directed by George Stevens and starring Katharine Hepburn. It was made by RKO and produced by Pandro S. Berman. The screenplay was by Dorothy Yost, Mortimer Offner, and Jane Murfin. The film was adapted from the novel Alice Adams by Booth Tarkington. The music score was by Max Steiner and Roy Webb, and the cinematography by Robert De Grasse. The film received Academy Award nominations for Best Picture and Best Actress.\\nThe film is about a young woman in a financially struggling family, and her pretentious attempts to appear upper-class and wed a wealthy man while concealing her poverty. Hepburn's popularity had declined after her two 1933 film triumphs - her Oscar-winning performance in  Morning Glory and her celebrated performance as Jo March in Little Women; her performance in Alice Adams made her a public favorite again.\",\n",
       "   'zh': '爱丽丝亚当斯是1935年由乔治·史蒂文斯执导，凯瑟琳·赫本主演的一部浪漫主义戏剧电影。它是由RKO制作的，由Pandro S.Berman制作。剧本由多萝西·约斯特、莫蒂默·奥夫纳和简·默芬执导。这部电影改编自布思·塔金顿的小说《爱丽丝亚当斯》。音乐配乐由马克斯·斯坦纳和罗伊·韦伯作曲，电影配乐由罗伯特·德格拉斯作曲。该片获得奥斯卡最佳影片和最佳女主角提名，影片讲述了一个家庭经济拮据的年轻女子，以及她在掩饰贫穷的同时，装出上流社会和嫁给有钱人的自命不凡的样子。赫本在1933年的两部影片《牵牛花》中获得奥斯卡奖，并在《小女人》中扮演乔·马奇，这两部影片大获全胜，赫本的人气也随之下降；她在爱丽丝亚当斯的表演再次成为公众的最爱。',\n",
       "   'cn': None,\n",
       "   'tw': None},\n",
       "  'content': {'en': [], 'zh': [], 'cn': [], 'tw': []}},\n",
       " {'title': {'en': 'Death Takes a Holiday', 'zh': None, 'cn': None, 'tw': None},\n",
       "  'ref': {'en': {'wikibase': 'Q1219315',\n",
       "    'pageid': 3416335,\n",
       "    'url': 'https://en.wikipedia.org/wiki/Death_Takes_a_Holiday',\n",
       "    'wikidata_url': 'https://www.wikidata.org/wiki/Q1219315'},\n",
       "   'zh': {'wikibase': None,\n",
       "    'pageid': None,\n",
       "    'url': None,\n",
       "    'wikidata_url': None}},\n",
       "  'infobox': {'en': [{'name': 'Death Takes a Holiday'},\n",
       "    {'image': 'DeathTakesAHolidayposter.jpg'},\n",
       "    {'caption': 'Theatrical release poster'},\n",
       "    {'director': '[[Mitchell Leisen]]'},\n",
       "    {'producer': '[[E. Lloyd Sheldon]]<br>Emanuel Cohen'},\n",
       "    {'screenplay': '[[Maxwell Anderson]]<br>[[Gladys Lehman]]'},\n",
       "    {'based on': \"''Death Takes a Holiday'' (play) by Walter Ferris, adapted from ''La Morte in Vacanza'' by Alberto Casella\"},\n",
       "    {'starring': '[[Fredric March]]<br>[[Evelyn Venable]]<br>[[Guy Standing]]<br>[[Katharine Alexander]]<br>[[Gail Patrick]]<br>[[Kent Taylor]]<br>[[Helen Westley]]<br>[[Henry Travers]]<br>[[Kathleen Howard]]'},\n",
       "    {'cinematography': '[[Charles Lang]]'},\n",
       "    {'distributor': '[[Paramount Pictures]]'},\n",
       "    {'released': 'February 23, 1934'},\n",
       "    {'runtime': '79 minutes'},\n",
       "    {'country': 'United States'},\n",
       "    {'language': '[[English language|English]]'}],\n",
       "   'cn': [],\n",
       "   'tw': []},\n",
       "  'summary': {'en': 'Death Takes a Holiday is a 1934 American pre-Code romantic drama starring Fredric March, Evelyn Venable and Guy Standing. It is based on the 1924 Italian play La Morte in Vacanza by Alberto Casella (1891-1957), as adapted in English for Broadway in 1929 by Walter Ferris.',\n",
       "   'zh': '死神放假是一部1934年的美国前代码浪漫剧，由弗雷德里克·马奇、伊夫林·维纳布尔和盖伊·斯坦丁主演。该剧改编自1924年阿尔贝托·卡塞拉（Alberto Casella，1891-1957）的意大利戏剧《瓦坎扎的莫特》（La Morte in Vacanza），1929年由沃尔特·费里斯（Walter Ferris）为百老汇改编成英文。',\n",
       "   'cn': None,\n",
       "   'tw': None},\n",
       "  'content': {'en': [], 'zh': [], 'cn': [], 'tw': []}},\n",
       " {'title': {'en': 'The Little Colonel (1935 film)',\n",
       "   'zh': None,\n",
       "   'cn': None,\n",
       "   'tw': None},\n",
       "  'ref': {'en': {'wikibase': 'Q2248695',\n",
       "    'pageid': 3021304,\n",
       "    'url': 'https://en.wikipedia.org/wiki/The_Little_Colonel_(1935_film)',\n",
       "    'wikidata_url': 'https://www.wikidata.org/wiki/Q2248695'},\n",
       "   'zh': {'wikibase': None,\n",
       "    'pageid': None,\n",
       "    'url': None,\n",
       "    'wikidata_url': None}},\n",
       "  'infobox': {'en': [{'name': 'The Little Colonel'},\n",
       "    {'image': 'File:Film_Poster_for_The_Little_Colonel.jpg'},\n",
       "    {'caption': 'Theatrical release poster'},\n",
       "    {'director': '[[David Butler (director)|David Butler]]'},\n",
       "    {'producer': '[[Buddy DeSylva|Buddy G. DeSylva]]'},\n",
       "    {'writer': \"'''Screenplay:'''<br />[[William M. Conselman]]<br />'''Novel:'''<br /> [[Annie Fellows Johnston]]\"},\n",
       "    {'starring': '[[Shirley Temple]]<br>[[Lionel Barrymore]]<br>[[Evelyn Venable]]<br />[[John Davis Lodge|John Lodge]]<br />[[Bill Robinson]]<br />[[Hattie McDaniel]]'},\n",
       "    {'music': '[[Cyril J. Mockridge]]'},\n",
       "    {'cinematography': '[[Arthur Miller (cinematographer)|Arthur C. Miller]]'},\n",
       "    {'gross': '$1.2 million'},\n",
       "    {'studio': '[[Fox Film]]'},\n",
       "    {'distributor': 'Fox Film'},\n",
       "    {'released': '{{Film date|1935|02|22}}'},\n",
       "    {'runtime': '80 minutes'},\n",
       "    {'country': 'United States'},\n",
       "    {'language': 'English'}],\n",
       "   'cn': [],\n",
       "   'tw': []},\n",
       "  'summary': {'en': \"The Little Colonel is a 1935 American comedy drama film directed by David Butler. The screenplay by William M. Conselman was adapted from the children's novel of the same name by Annie Fellows Johnston, originally published in 1895. It focuses on the reconciliation of an estranged father and daughter in the years following the American Civil War.   The film stars Shirley Temple, Lionel Barrymore, Evelyn Venable, John Lodge, Bill Robinson, and Hattie McDaniel.\\nThe Little Colonel was the first of four cinematic pairings between Temple and Robinson, and features the duo's famous staircase tap dance. The film was well received, and, in 2009, was available on videocassette and DVD in both black-and-white and computer-colorized versions.\",\n",
       "   'zh': '小上校是一部1935年由大卫·巴特勒执导的美国喜剧戏剧电影。威廉康瑟尔曼的剧本改编自安妮·费罗斯·约翰斯顿的同名儿童小说，原著出版于1895年。它关注的是美国内战后一对疏远的父女的和解。这部电影由雪莉·坦普尔、莱昂内尔·巴里摩尔、伊夫林·维纳布尔、约翰·洛奇、比尔·罗宾逊和海蒂·麦克丹尼尔主演。小上校是坦普尔和罗宾逊四对电影搭档中的第一对，以这对组合著名的楼梯踢踏舞为特色。这部电影很受欢迎，2009年，有黑白和电脑彩色两种版本的盒式录像带和DVD。',\n",
       "   'cn': None,\n",
       "   'tw': None},\n",
       "  'content': {'en': [], 'zh': [], 'cn': [], 'tw': []}},\n",
       " {'title': {'en': 'Evelyn Venable', 'zh': None, 'cn': None, 'tw': None},\n",
       "  'ref': {'en': {'wikibase': 'Q276353',\n",
       "    'pageid': 14513907,\n",
       "    'url': 'https://en.wikipedia.org/wiki/Evelyn_Venable',\n",
       "    'wikidata_url': 'https://www.wikidata.org/wiki/Q276353'},\n",
       "   'zh': {'wikibase': None,\n",
       "    'pageid': None,\n",
       "    'url': None,\n",
       "    'wikidata_url': None}},\n",
       "  'infobox': {'en': [{'name': 'Evelyn Venable'},\n",
       "    {'image': 'Fredric March-Evelyn Venable in Death Takes a Holiday trailer.jpg'},\n",
       "    {'imagesize': '270px'},\n",
       "    {'caption': \"[[Fredric March]] and Evelyn Venable in ''Death Takes a Holiday''\"},\n",
       "    {'birth_date': '{{birth date|1913|10|18|mf|=|y}}'},\n",
       "    {'birth_place': '[[Cincinnati, Ohio]], U.S.'},\n",
       "    {'death_date': '{{death date and age|1993|11|15|1913|10|18}}'},\n",
       "    {'death_place': \"[[Coeur d'Alene, Idaho]], U.S.\"},\n",
       "    {'yearsactive': '1933&ndash;1943'},\n",
       "    {'alma_mater': '[[University of California, Los Angeles]]'},\n",
       "    {'occupation': 'Actress'},\n",
       "    {'notable_works': \"Original voice of The Blue Fairy in Disney's ''[[Pinocchio (1940 film)|Pinocchio]]'' (1940)\"},\n",
       "    {'spouse': '[[Hal Mohr]] (1934&ndash;1974, his death)'},\n",
       "    {'children': '2'}],\n",
       "   'cn': [],\n",
       "   'tw': []},\n",
       "  'summary': {'en': \"Evelyn Venable (October 18, 1913 – November 15, 1993) was an American actress. In addition to starring in several films in the 1930s and 1940s, she was also the voice and model for the Blue Fairy in Walt Disney's Pinocchio (1940). She was the original model for the personification of Columbia in the Columbia Pictures logo.\\nFor her work in motion pictures, Venable has a star on the Hollywood Walk of Fame at 1500 Vine Street.\",\n",
       "   'zh': '伊夫林·维纳布尔（1913年10月18日至1993年11月15日）是美国女演员。除了在上世纪三四十年代出演几部电影外，她还是沃尔特·迪斯尼（Walt Disney）的《匹诺曹》（Pinocchio，1940）中蓝精灵的配音和模特。她是哥伦比亚电影公司标志中哥伦比亚形象的原型，在电影方面的工作，Venable在1500 Vine Street的好莱坞星光大道上有一个明星。',\n",
       "   'cn': None,\n",
       "   'tw': None},\n",
       "  'content': {'en': [], 'zh': [], 'cn': [], 'tw': []}},\n",
       " {'title': {'en': 'Weekend (2011 film)', 'zh': None, 'cn': None, 'tw': None},\n",
       "  'ref': {'en': {'wikibase': 'Q2628694',\n",
       "    'pageid': 33638304,\n",
       "    'url': 'https://en.wikipedia.org/wiki/Weekend_(2011_film)',\n",
       "    'wikidata_url': 'https://www.wikidata.org/wiki/Q2628694'},\n",
       "   'zh': {'wikibase': None,\n",
       "    'pageid': None,\n",
       "    'url': None,\n",
       "    'wikidata_url': None}},\n",
       "  'infobox': {'en': [{'name': 'Weekend'},\n",
       "    {'image': 'Weekend 2011 film poster.png'},\n",
       "    {'caption': 'Theatrical release poster'},\n",
       "    {'director': '[[Andrew Haigh]]'},\n",
       "    {'producer': 'Tristan Goligher'},\n",
       "    {'writer': 'Andrew Haigh'},\n",
       "    {'starring': '[[Tom Cullen (actor)|Tom Cullen]]<br />[[Chris New]]'},\n",
       "    {'music': '[[James Edward Barker]]'},\n",
       "    {'cinematography': 'Ula Pontikos'},\n",
       "    {'editing': 'Andrew Haigh'},\n",
       "    {'studio': 'Synchronicity Films<br />[[UK Film Council]]<br />[[Creative Scotland]]'},\n",
       "    {'distributor': '[[Peccadillo Pictures]] {{small|(UK)}} <br />[[Sundance Selects]] {{small|(US)}}'},\n",
       "    {'released': '{{Film date|df|=|y|2011|03|11|[[South by Southwest|SXSW]]|2011|09|23|United States|2011|11|04|United Kingdom}}'},\n",
       "    {'runtime': '97 minutes'},\n",
       "    {'country': 'United Kingdom'},\n",
       "    {'language': 'English'},\n",
       "    {'budget': '[[British pound|£]]120,000'},\n",
       "    {'gross': '$1,128,477(Worldwide)'}],\n",
       "   'cn': [],\n",
       "   'tw': []},\n",
       "  'summary': {'en': 'Weekend is a 2011 British romantic drama film directed by Andrew Haigh and starring Tom Cullen and Chris New as two men who meet and begin a sexual relationship the weekend before one of them plans to leave the country. The film won much praise and critical acclaim after premiering at the SXSW festival in the US, and was a success at the box office in the UK and the US, where it received a limited release.',\n",
       "   'zh': '周末是一部2011年的英国浪漫戏剧电影，由安德鲁·黑格执导，由汤姆·卡伦和克里斯·纽主演，两人在其中一人计划出国前的周末相遇并开始了性关系。这部影片在美国SXSW电影节首映后赢得了很多好评和评论界的赞誉，并在英国和美国的票房上取得了成功，获得了限量发行。',\n",
       "   'cn': None,\n",
       "   'tw': None},\n",
       "  'content': {'en': [], 'zh': [], 'cn': [], 'tw': []}},\n",
       " {'title': {'en': 'Tom Cullen', 'zh': None, 'cn': None, 'tw': None},\n",
       "  'ref': {'en': {'wikibase': 'Q7815481',\n",
       "    'pageid': 32831736,\n",
       "    'url': 'https://en.wikipedia.org/wiki/Tom_Cullen',\n",
       "    'wikidata_url': 'https://www.wikidata.org/wiki/Q7815481'},\n",
       "   'zh': {'wikibase': None,\n",
       "    'pageid': None,\n",
       "    'url': None,\n",
       "    'wikidata_url': None}},\n",
       "  'infobox': {'en': [{'name': 'Tom Cullen'},\n",
       "    {'image': 'TomCullen.jpg'},\n",
       "    {'caption': 'Cullen in 2017'},\n",
       "    {'birth_date': '{{Birth date and age|df|=|y|1985|7|17}}'},\n",
       "    {'birth_place': '[[Aberystwyth]], Wales'},\n",
       "    {'residence': '[[Los Angeles]], [[California]], U.S.'},\n",
       "    {'alma_mater': '[[Royal Welsh College of Music & Drama]]'},\n",
       "    {'occupation': '{{flatlist|\\n*Actor\\n*writer\\n*director}}'},\n",
       "    {'years_active': '2006–present'}],\n",
       "   'cn': [],\n",
       "   'tw': []},\n",
       "  'summary': {'en': 'Tom Cullen (born 17 July 1985) is a Welsh actor. He had roles in the  independent film Weekend (2011), as Anthony Foyle, Viscount Gillingham in the television series Downton Abbey, and as Sir Landry in the historical drama series Knightfall.',\n",
       "   'zh': '汤姆·卡伦（生于1985年7月17日）是威尔士演员。他曾在独立电影《周末》（2011）中扮演安东尼·福伊尔（Anthony Foyle）、电视剧《唐顿庄园》（Downton Abbey）中的吉林厄姆子爵（Viscount Gillingham）和历史剧《骑士》（Knightfall）中的兰德里爵士（Sir Landry）。',\n",
       "   'cn': None,\n",
       "   'tw': None},\n",
       "  'content': {'en': [], 'zh': [], 'cn': [], 'tw': []}}]"
      ]
     },
     "execution_count": 16,
     "metadata": {},
     "output_type": "execute_result"
    }
   ],
   "source": [
    "data[:10]"
   ]
  },
  {
   "cell_type": "code",
   "execution_count": null,
   "metadata": {},
   "outputs": [],
   "source": []
  }
 ],
 "metadata": {
  "kernelspec": {
   "display_name": "Python 3",
   "language": "python",
   "name": "python3"
  },
  "language_info": {
   "codemirror_mode": {
    "name": "ipython",
    "version": 3
   },
   "file_extension": ".py",
   "mimetype": "text/x-python",
   "name": "python",
   "nbconvert_exporter": "python",
   "pygments_lexer": "ipython3",
   "version": "3.7.7"
  }
 },
 "nbformat": 4,
 "nbformat_minor": 4
}
